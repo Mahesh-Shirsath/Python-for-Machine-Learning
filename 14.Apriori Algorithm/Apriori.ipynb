{
  "nbformat": 4,
  "nbformat_minor": 0,
  "metadata": {
    "colab": {
      "name": "Apriori.ipynb",
      "provenance": []
    },
    "kernelspec": {
      "name": "python3",
      "display_name": "Python 3"
    }
  },
  "cells": [
    {
      "cell_type": "code",
      "metadata": {
        "id": "6EyC9kk3pwG-",
        "colab_type": "code",
        "colab": {}
      },
      "source": [
        "import pandas as pd\n",
        "import numpy as np\n",
        "import matplotlib.pyplot as plt\n",
        "import seaborn as sns"
      ],
      "execution_count": null,
      "outputs": []
    },
    {
      "cell_type": "code",
      "metadata": {
        "id": "PkzmJMeWEN8q",
        "colab_type": "code",
        "colab": {}
      },
      "source": [
        "dataset = pd.read_csv('Market_Basket_Optimisation.csv', header=None)"
      ],
      "execution_count": null,
      "outputs": []
    },
    {
      "cell_type": "code",
      "metadata": {
        "id": "HTVvVjvlEWuQ",
        "colab_type": "code",
        "colab": {
          "base_uri": "https://localhost:8080/",
          "height": 287
        },
        "outputId": "e71a307a-5d24-432a-dc78-579775b980a3"
      },
      "source": [
        "sns.heatmap(dataset.isnull())"
      ],
      "execution_count": null,
      "outputs": [
        {
          "output_type": "execute_result",
          "data": {
            "text/plain": [
              "<matplotlib.axes._subplots.AxesSubplot at 0x7f31d6c77dd8>"
            ]
          },
          "metadata": {
            "tags": []
          },
          "execution_count": 8
        },
        {
          "output_type": "display_data",
          "data": {
            "image/png": "[encoded data removed]",
            "text/plain": [
              "<Figure size 432x288 with 2 Axes>"
            ]
          },
          "metadata": {
            "tags": [],
            "needs_background": "light"
          }
        }
      ]
    },
    {
      "cell_type": "code",
      "metadata": {
        "id": "GqsQ6Mu5EckX",
        "colab_type": "code",
        "colab": {
          "base_uri": "https://localhost:8080/",
          "height": 126
        },
        "outputId": "408f804b-efc5-411f-e888-5d07e4285061"
      },
      "source": [
        "dataset.keys()"
      ],
      "execution_count": null,
      "outputs": [
        {
          "output_type": "execute_result",
          "data": {
            "text/plain": [
              "Index(['shrimp', 'almonds', 'avocado', 'vegetables mix', 'green grapes',\n",
              "       'whole weat flour', 'yams', 'cottage cheese', 'energy drink',\n",
              "       'tomato juice', 'low fat yogurt', 'green tea', 'honey', 'salad',\n",
              "       'mineral water', 'salmon', 'antioxydant juice', 'frozen smoothie',\n",
              "       'spinach', 'olive oil'],\n",
              "      dtype='object')"
            ]
          },
          "metadata": {
            "tags": []
          },
          "execution_count": 5
        }
      ]
    },
    {
      "cell_type": "markdown",
      "metadata": {
        "id": "K5laTRoMpq6y",
        "colab_type": "text"
      },
      "source": [
        "Apriori function of Apryori does not support pandas dataframe thus we have preporcess data\n"
      ]
    },
    {
      "cell_type": "code",
      "metadata": {
        "id": "MsvfXLQ2u_We",
        "colab_type": "code",
        "colab": {
          "base_uri": "https://localhost:8080/",
          "height": 35
        },
        "outputId": "72753ad1-515a-43b6-81c5-013a194b6adb"
      },
      "source": [
        "len(dataset)"
      ],
      "execution_count": null,
      "outputs": [
        {
          "output_type": "execute_result",
          "data": {
            "text/plain": [
              "7501"
            ]
          },
          "metadata": {
            "tags": []
          },
          "execution_count": 9
        }
      ]
    },
    {
      "cell_type": "code",
      "metadata": {
        "id": "q6DjnTBCGoj_",
        "colab_type": "code",
        "colab": {}
      },
      "source": [
        "transactions = []\n",
        "for i in range(len(dataset)):\n",
        "  transactions.append([str(dataset.values[i,j]) for j in range(20)])"
      ],
      "execution_count": null,
      "outputs": []
    },
    {
      "cell_type": "code",
      "metadata": {
        "id": "52u67Z-svBVV",
        "colab_type": "code",
        "colab": {}
      },
      "source": [
        "from apyori import apriori"
      ],
      "execution_count": null,
      "outputs": []
    },
    {
      "cell_type": "code",
      "metadata": {
        "id": "CYBTXQx4w3PA",
        "colab_type": "code",
        "colab": {}
      },
      "source": [
        "rules = apriori(transactions, min_support = 0.003, min_confidence = 0.2, min_lift = 3, min_lenght = 2, \n",
        "                max_length = 2)"
      ],
      "execution_count": null,
      "outputs": []
    },
    {
      "cell_type": "code",
      "metadata": {
        "id": "t08PlrCA68yF",
        "colab_type": "code",
        "colab": {
          "base_uri": "https://localhost:8080/",
          "height": 35
        },
        "outputId": "427f8bf3-2176-421c-b25b-a057c09b6d93"
      },
      "source": [
        "print(rules)"
      ],
      "execution_count": null,
      "outputs": [
        {
          "output_type": "stream",
          "text": [
            "<generator object apriori at 0x7f31ca91c990>\n"
          ],
          "name": "stdout"
        }
      ]
    },
    {
      "cell_type": "code",
      "metadata": {
        "id": "KXNIMoj27AsN",
        "colab_type": "code",
        "colab": {
          "base_uri": "https://localhost:8080/",
          "height": 201
        },
        "outputId": "83529417-77d2-4304-9835-29036f4c9d44"
      },
      "source": [
        "results = list(rules)\n",
        "results"
      ],
      "execution_count": null,
      "outputs": [
        {
          "output_type": "execute_result",
          "data": {
            "text/plain": [
              "[RelationRecord(items=frozenset({'light cream', 'chicken'}), support=0.004532728969470737, ordered_statistics=[OrderedStatistic(items_base=frozenset({'light cream'}), items_add=frozenset({'chicken'}), confidence=0.29059829059829057, lift=4.84395061728395)]),\n",
              " RelationRecord(items=frozenset({'mushroom cream sauce', 'escalope'}), support=0.005732568990801226, ordered_statistics=[OrderedStatistic(items_base=frozenset({'mushroom cream sauce'}), items_add=frozenset({'escalope'}), confidence=0.3006993006993007, lift=3.790832696715049)]),\n",
              " RelationRecord(items=frozenset({'pasta', 'escalope'}), support=0.005865884548726837, ordered_statistics=[OrderedStatistic(items_base=frozenset({'pasta'}), items_add=frozenset({'escalope'}), confidence=0.3728813559322034, lift=4.700811850163794)]),\n",
              " RelationRecord(items=frozenset({'honey', 'fromage blanc'}), support=0.003332888948140248, ordered_statistics=[OrderedStatistic(items_base=frozenset({'fromage blanc'}), items_add=frozenset({'honey'}), confidence=0.2450980392156863, lift=5.164270764485569)]),\n",
              " RelationRecord(items=frozenset({'herb & pepper', 'ground beef'}), support=0.015997866951073192, ordered_statistics=[OrderedStatistic(items_base=frozenset({'herb & pepper'}), items_add=frozenset({'ground beef'}), confidence=0.3234501347708895, lift=3.2919938411349285)]),\n",
              " RelationRecord(items=frozenset({'tomato sauce', 'ground beef'}), support=0.005332622317024397, ordered_statistics=[OrderedStatistic(items_base=frozenset({'tomato sauce'}), items_add=frozenset({'ground beef'}), confidence=0.3773584905660377, lift=3.840659481324083)]),\n",
              " RelationRecord(items=frozenset({'olive oil', 'light cream'}), support=0.003199573390214638, ordered_statistics=[OrderedStatistic(items_base=frozenset({'light cream'}), items_add=frozenset({'olive oil'}), confidence=0.20512820512820515, lift=3.1147098515519573)]),\n",
              " RelationRecord(items=frozenset({'olive oil', 'whole wheat pasta'}), support=0.007998933475536596, ordered_statistics=[OrderedStatistic(items_base=frozenset({'whole wheat pasta'}), items_add=frozenset({'olive oil'}), confidence=0.2714932126696833, lift=4.122410097642296)]),\n",
              " RelationRecord(items=frozenset({'pasta', 'shrimp'}), support=0.005065991201173177, ordered_statistics=[OrderedStatistic(items_base=frozenset({'pasta'}), items_add=frozenset({'shrimp'}), confidence=0.3220338983050847, lift=4.506672147735896)])]"
            ]
          },
          "metadata": {
            "tags": []
          },
          "execution_count": 22
        }
      ]
    },
    {
      "cell_type": "markdown",
      "metadata": {
        "id": "FqHaVMjW7wNN",
        "colab_type": "text"
      },
      "source": [
        "Here we can see(from 1st rule), if person purchase 'Chiken' there is high chance of that person perchasing 'light cream'"
      ]
    },
    {
      "cell_type": "code",
      "metadata": {
        "id": "IV_jNUPYN5OP",
        "colab_type": "code",
        "colab": {}
      },
      "source": [
        "def inspect(results):\n",
        "    lhs         = [tuple(result[2][0][0])[0] for result in results]\n",
        "    rhs         = [tuple(result[2][0][1])[0] for result in results]\n",
        "    supports    = [result[1] for result in results]\n",
        "    confidences = [result[2][0][2] for result in results]\n",
        "    lifts       = [result[2][0][3] for result in results]\n",
        "    return list(zip(lhs, rhs, supports, confidences, lifts))\n",
        "resultsinDataFrame = pd.DataFrame(inspect(results), columns = ['Left Hand Side', 'Right Hand Side', 'Support', 'Confidence', 'Lift'])"
      ],
      "execution_count": null,
      "outputs": []
    },
    {
      "cell_type": "code",
      "metadata": {
        "id": "bUooxzriRkD0",
        "colab_type": "code",
        "colab": {
          "base_uri": "https://localhost:8080/",
          "height": 318
        },
        "outputId": "ab44c9eb-3c1f-4159-e95c-b3afcb7176b1"
      },
      "source": [
        "resultsinDataFrame"
      ],
      "execution_count": null,
      "outputs": [
        {
          "output_type": "execute_result",
          "data": {
            "text/html": [
              "<div>\n",
              "<style scoped>\n",
              "    .dataframe tbody tr th:only-of-type {\n",
              "        vertical-align: middle;\n",
              "    }\n",
              "\n",
              "    .dataframe tbody tr th {\n",
              "        vertical-align: top;\n",
              "    }\n",
              "\n",
              "    .dataframe thead th {\n",
              "        text-align: right;\n",
              "    }\n",
              "</style>\n",
              "<table border=\"1\" class=\"dataframe\">\n",
              "  <thead>\n",
              "    <tr style=\"text-align: right;\">\n",
              "      <th></th>\n",
              "      <th>Left Hand Side</th>\n",
              "      <th>Right Hand Side</th>\n",
              "      <th>Support</th>\n",
              "      <th>Confidence</th>\n",
              "      <th>Lift</th>\n",
              "    </tr>\n",
              "  </thead>\n",
              "  <tbody>\n",
              "    <tr>\n",
              "      <th>0</th>\n",
              "      <td>light cream</td>\n",
              "      <td>chicken</td>\n",
              "      <td>0.004533</td>\n",
              "      <td>0.290598</td>\n",
              "      <td>4.843951</td>\n",
              "    </tr>\n",
              "    <tr>\n",
              "      <th>1</th>\n",
              "      <td>mushroom cream sauce</td>\n",
              "      <td>escalope</td>\n",
              "      <td>0.005733</td>\n",
              "      <td>0.300699</td>\n",
              "      <td>3.790833</td>\n",
              "    </tr>\n",
              "    <tr>\n",
              "      <th>2</th>\n",
              "      <td>pasta</td>\n",
              "      <td>escalope</td>\n",
              "      <td>0.005866</td>\n",
              "      <td>0.372881</td>\n",
              "      <td>4.700812</td>\n",
              "    </tr>\n",
              "    <tr>\n",
              "      <th>3</th>\n",
              "      <td>fromage blanc</td>\n",
              "      <td>honey</td>\n",
              "      <td>0.003333</td>\n",
              "      <td>0.245098</td>\n",
              "      <td>5.164271</td>\n",
              "    </tr>\n",
              "    <tr>\n",
              "      <th>4</th>\n",
              "      <td>herb &amp; pepper</td>\n",
              "      <td>ground beef</td>\n",
              "      <td>0.015998</td>\n",
              "      <td>0.323450</td>\n",
              "      <td>3.291994</td>\n",
              "    </tr>\n",
              "    <tr>\n",
              "      <th>5</th>\n",
              "      <td>tomato sauce</td>\n",
              "      <td>ground beef</td>\n",
              "      <td>0.005333</td>\n",
              "      <td>0.377358</td>\n",
              "      <td>3.840659</td>\n",
              "    </tr>\n",
              "    <tr>\n",
              "      <th>6</th>\n",
              "      <td>light cream</td>\n",
              "      <td>olive oil</td>\n",
              "      <td>0.003200</td>\n",
              "      <td>0.205128</td>\n",
              "      <td>3.114710</td>\n",
              "    </tr>\n",
              "    <tr>\n",
              "      <th>7</th>\n",
              "      <td>whole wheat pasta</td>\n",
              "      <td>olive oil</td>\n",
              "      <td>0.007999</td>\n",
              "      <td>0.271493</td>\n",
              "      <td>4.122410</td>\n",
              "    </tr>\n",
              "    <tr>\n",
              "      <th>8</th>\n",
              "      <td>pasta</td>\n",
              "      <td>shrimp</td>\n",
              "      <td>0.005066</td>\n",
              "      <td>0.322034</td>\n",
              "      <td>4.506672</td>\n",
              "    </tr>\n",
              "  </tbody>\n",
              "</table>\n",
              "</div>"
            ],
            "text/plain": [
              "         Left Hand Side Right Hand Side   Support  Confidence      Lift\n",
              "0           light cream         chicken  0.004533    0.290598  4.843951\n",
              "1  mushroom cream sauce        escalope  0.005733    0.300699  3.790833\n",
              "2                 pasta        escalope  0.005866    0.372881  4.700812\n",
              "3         fromage blanc           honey  0.003333    0.245098  5.164271\n",
              "4         herb & pepper     ground beef  0.015998    0.323450  3.291994\n",
              "5          tomato sauce     ground beef  0.005333    0.377358  3.840659\n",
              "6           light cream       olive oil  0.003200    0.205128  3.114710\n",
              "7     whole wheat pasta       olive oil  0.007999    0.271493  4.122410\n",
              "8                 pasta          shrimp  0.005066    0.322034  4.506672"
            ]
          },
          "metadata": {
            "tags": []
          },
          "execution_count": 30
        }
      ]
    },
    {
      "cell_type": "code",
      "metadata": {
        "id": "0rjLGKQnRjNp",
        "colab_type": "code",
        "colab": {
          "base_uri": "https://localhost:8080/",
          "height": 318
        },
        "outputId": "559f85fd-e2a6-430c-9da9-93613c5c0ece"
      },
      "source": [
        "resultsinDataFrame.nlargest(n=10, columns='Lift')"
      ],
      "execution_count": null,
      "outputs": [
        {
          "output_type": "execute_result",
          "data": {
            "text/html": [
              "<div>\n",
              "<style scoped>\n",
              "    .dataframe tbody tr th:only-of-type {\n",
              "        vertical-align: middle;\n",
              "    }\n",
              "\n",
              "    .dataframe tbody tr th {\n",
              "        vertical-align: top;\n",
              "    }\n",
              "\n",
              "    .dataframe thead th {\n",
              "        text-align: right;\n",
              "    }\n",
              "</style>\n",
              "<table border=\"1\" class=\"dataframe\">\n",
              "  <thead>\n",
              "    <tr style=\"text-align: right;\">\n",
              "      <th></th>\n",
              "      <th>Left Hand Side</th>\n",
              "      <th>Right Hand Side</th>\n",
              "      <th>Support</th>\n",
              "      <th>Confidence</th>\n",
              "      <th>Lift</th>\n",
              "    </tr>\n",
              "  </thead>\n",
              "  <tbody>\n",
              "    <tr>\n",
              "      <th>3</th>\n",
              "      <td>fromage blanc</td>\n",
              "      <td>honey</td>\n",
              "      <td>0.003333</td>\n",
              "      <td>0.245098</td>\n",
              "      <td>5.164271</td>\n",
              "    </tr>\n",
              "    <tr>\n",
              "      <th>0</th>\n",
              "      <td>light cream</td>\n",
              "      <td>chicken</td>\n",
              "      <td>0.004533</td>\n",
              "      <td>0.290598</td>\n",
              "      <td>4.843951</td>\n",
              "    </tr>\n",
              "    <tr>\n",
              "      <th>2</th>\n",
              "      <td>pasta</td>\n",
              "      <td>escalope</td>\n",
              "      <td>0.005866</td>\n",
              "      <td>0.372881</td>\n",
              "      <td>4.700812</td>\n",
              "    </tr>\n",
              "    <tr>\n",
              "      <th>8</th>\n",
              "      <td>pasta</td>\n",
              "      <td>shrimp</td>\n",
              "      <td>0.005066</td>\n",
              "      <td>0.322034</td>\n",
              "      <td>4.506672</td>\n",
              "    </tr>\n",
              "    <tr>\n",
              "      <th>7</th>\n",
              "      <td>whole wheat pasta</td>\n",
              "      <td>olive oil</td>\n",
              "      <td>0.007999</td>\n",
              "      <td>0.271493</td>\n",
              "      <td>4.122410</td>\n",
              "    </tr>\n",
              "    <tr>\n",
              "      <th>5</th>\n",
              "      <td>tomato sauce</td>\n",
              "      <td>ground beef</td>\n",
              "      <td>0.005333</td>\n",
              "      <td>0.377358</td>\n",
              "      <td>3.840659</td>\n",
              "    </tr>\n",
              "    <tr>\n",
              "      <th>1</th>\n",
              "      <td>mushroom cream sauce</td>\n",
              "      <td>escalope</td>\n",
              "      <td>0.005733</td>\n",
              "      <td>0.300699</td>\n",
              "      <td>3.790833</td>\n",
              "    </tr>\n",
              "    <tr>\n",
              "      <th>4</th>\n",
              "      <td>herb &amp; pepper</td>\n",
              "      <td>ground beef</td>\n",
              "      <td>0.015998</td>\n",
              "      <td>0.323450</td>\n",
              "      <td>3.291994</td>\n",
              "    </tr>\n",
              "    <tr>\n",
              "      <th>6</th>\n",
              "      <td>light cream</td>\n",
              "      <td>olive oil</td>\n",
              "      <td>0.003200</td>\n",
              "      <td>0.205128</td>\n",
              "      <td>3.114710</td>\n",
              "    </tr>\n",
              "  </tbody>\n",
              "</table>\n",
              "</div>"
            ],
            "text/plain": [
              "         Left Hand Side Right Hand Side   Support  Confidence      Lift\n",
              "3         fromage blanc           honey  0.003333    0.245098  5.164271\n",
              "0           light cream         chicken  0.004533    0.290598  4.843951\n",
              "2                 pasta        escalope  0.005866    0.372881  4.700812\n",
              "8                 pasta          shrimp  0.005066    0.322034  4.506672\n",
              "7     whole wheat pasta       olive oil  0.007999    0.271493  4.122410\n",
              "5          tomato sauce     ground beef  0.005333    0.377358  3.840659\n",
              "1  mushroom cream sauce        escalope  0.005733    0.300699  3.790833\n",
              "4         herb & pepper     ground beef  0.015998    0.323450  3.291994\n",
              "6           light cream       olive oil  0.003200    0.205128  3.114710"
            ]
          },
          "metadata": {
            "tags": []
          },
          "execution_count": 42
        }
      ]
    },
    {
      "cell_type": "code",
      "metadata": {
        "id": "_WgDpeUe7Zsv",
        "colab_type": "code",
        "colab": {}
      },
      "source": [
        "rules_2 = apriori(transactions, min_support = 0.003, min_confidence = 0.2, min_lift = 3, min_lenght = 2, \n",
        "                max_length = 11)"
      ],
      "execution_count": null,
      "outputs": []
    },
    {
      "cell_type": "code",
      "metadata": {
        "id": "sV6ZCJVFSvsD",
        "colab_type": "code",
        "colab": {
          "base_uri": "https://localhost:8080/",
          "height": 1000
        },
        "outputId": "7c333b5a-5273-45db-ff20-ab338497caa3"
      },
      "source": [
        "result = list(rules_2)\n",
        "result"
      ],
      "execution_count": null,
      "outputs": [
        {
          "output_type": "execute_result",
          "data": {
            "text/plain": [
              "[RelationRecord(items=frozenset({'light cream', 'chicken'}), support=0.004532728969470737, ordered_statistics=[OrderedStatistic(items_base=frozenset({'light cream'}), items_add=frozenset({'chicken'}), confidence=0.29059829059829057, lift=4.84395061728395)]),\n",
              " RelationRecord(items=frozenset({'mushroom cream sauce', 'escalope'}), support=0.005732568990801226, ordered_statistics=[OrderedStatistic(items_base=frozenset({'mushroom cream sauce'}), items_add=frozenset({'escalope'}), confidence=0.3006993006993007, lift=3.790832696715049)]),\n",
              " RelationRecord(items=frozenset({'pasta', 'escalope'}), support=0.005865884548726837, ordered_statistics=[OrderedStatistic(items_base=frozenset({'pasta'}), items_add=frozenset({'escalope'}), confidence=0.3728813559322034, lift=4.700811850163794)]),\n",
              " RelationRecord(items=frozenset({'honey', 'fromage blanc'}), support=0.003332888948140248, ordered_statistics=[OrderedStatistic(items_base=frozenset({'fromage blanc'}), items_add=frozenset({'honey'}), confidence=0.2450980392156863, lift=5.164270764485569)]),\n",
              " RelationRecord(items=frozenset({'herb & pepper', 'ground beef'}), support=0.015997866951073192, ordered_statistics=[OrderedStatistic(items_base=frozenset({'herb & pepper'}), items_add=frozenset({'ground beef'}), confidence=0.3234501347708895, lift=3.2919938411349285)]),\n",
              " RelationRecord(items=frozenset({'tomato sauce', 'ground beef'}), support=0.005332622317024397, ordered_statistics=[OrderedStatistic(items_base=frozenset({'tomato sauce'}), items_add=frozenset({'ground beef'}), confidence=0.3773584905660377, lift=3.840659481324083)]),\n",
              " RelationRecord(items=frozenset({'olive oil', 'light cream'}), support=0.003199573390214638, ordered_statistics=[OrderedStatistic(items_base=frozenset({'light cream'}), items_add=frozenset({'olive oil'}), confidence=0.20512820512820515, lift=3.1147098515519573)]),\n",
              " RelationRecord(items=frozenset({'olive oil', 'whole wheat pasta'}), support=0.007998933475536596, ordered_statistics=[OrderedStatistic(items_base=frozenset({'whole wheat pasta'}), items_add=frozenset({'olive oil'}), confidence=0.2714932126696833, lift=4.122410097642296)]),\n",
              " RelationRecord(items=frozenset({'pasta', 'shrimp'}), support=0.005065991201173177, ordered_statistics=[OrderedStatistic(items_base=frozenset({'pasta'}), items_add=frozenset({'shrimp'}), confidence=0.3220338983050847, lift=4.506672147735896)]),\n",
              " RelationRecord(items=frozenset({'avocado', 'milk', 'spaghetti'}), support=0.003332888948140248, ordered_statistics=[OrderedStatistic(items_base=frozenset({'avocado', 'spaghetti'}), items_add=frozenset({'milk'}), confidence=0.41666666666666663, lift=3.215449245541838)]),\n",
              " RelationRecord(items=frozenset({'cake', 'burgers', 'milk'}), support=0.0037328356219170776, ordered_statistics=[OrderedStatistic(items_base=frozenset({'cake', 'milk'}), items_add=frozenset({'burgers'}), confidence=0.27999999999999997, lift=3.211437308868501)]),\n",
              " RelationRecord(items=frozenset({'chocolate', 'burgers', 'turkey'}), support=0.0030662578322890282, ordered_statistics=[OrderedStatistic(items_base=frozenset({'chocolate', 'turkey'}), items_add=frozenset({'burgers'}), confidence=0.27058823529411763, lift=3.1034898363014927)]),\n",
              " RelationRecord(items=frozenset({'turkey', 'burgers', 'milk'}), support=0.003199573390214638, ordered_statistics=[OrderedStatistic(items_base=frozenset({'turkey', 'milk'}), items_add=frozenset({'burgers'}), confidence=0.2823529411764706, lift=3.2384241770102533)]),\n",
              " RelationRecord(items=frozenset({'cake', 'tomatoes', 'frozen vegetables'}), support=0.0030662578322890282, ordered_statistics=[OrderedStatistic(items_base=frozenset({'cake', 'frozen vegetables'}), items_add=frozenset({'tomatoes'}), confidence=0.2987012987012987, lift=4.367560314928736), OrderedStatistic(items_base=frozenset({'cake', 'tomatoes'}), items_add=frozenset({'frozen vegetables'}), confidence=0.36507936507936506, lift=3.8300144300144296)]),\n",
              " RelationRecord(items=frozenset({'cereals', 'spaghetti', 'ground beef'}), support=0.0030662578322890282, ordered_statistics=[OrderedStatistic(items_base=frozenset({'cereals', 'ground beef'}), items_add=frozenset({'spaghetti'}), confidence=0.6764705882352942, lift=3.8853031258445188), OrderedStatistic(items_base=frozenset({'cereals', 'spaghetti'}), items_add=frozenset({'ground beef'}), confidence=0.45999999999999996, lift=4.681763907734057)]),\n",
              " RelationRecord(items=frozenset({'chicken', 'ground beef', 'milk'}), support=0.0038661511798426876, ordered_statistics=[OrderedStatistic(items_base=frozenset({'chicken', 'ground beef'}), items_add=frozenset({'milk'}), confidence=0.40845070422535207, lift=3.152046020981858)]),\n",
              " RelationRecord(items=frozenset({'light cream', 'chicken', 'nan'}), support=0.004532728969470737, ordered_statistics=[OrderedStatistic(items_base=frozenset({'light cream'}), items_add=frozenset({'chicken', 'nan'}), confidence=0.29059829059829057, lift=4.84395061728395), OrderedStatistic(items_base=frozenset({'light cream', 'nan'}), items_add=frozenset({'chicken'}), confidence=0.29059829059829057, lift=4.84395061728395)]),\n",
              " RelationRecord(items=frozenset({'olive oil', 'chicken', 'milk'}), support=0.0035995200639914677, ordered_statistics=[OrderedStatistic(items_base=frozenset({'chicken', 'milk'}), items_add=frozenset({'olive oil'}), confidence=0.24324324324324323, lift=3.693456614509246), OrderedStatistic(items_base=frozenset({'olive oil', 'chicken'}), items_add=frozenset({'milk'}), confidence=0.5, lift=3.858539094650206), OrderedStatistic(items_base=frozenset({'olive oil', 'milk'}), items_add=frozenset({'chicken'}), confidence=0.2109375, lift=3.51609375)]),\n",
              " RelationRecord(items=frozenset({'olive oil', 'chicken', 'spaghetti'}), support=0.0034662045060658577, ordered_statistics=[OrderedStatistic(items_base=frozenset({'chicken', 'spaghetti'}), items_add=frozenset({'olive oil'}), confidence=0.20155038759689922, lift=3.0603835169318647)]),\n",
              " RelationRecord(items=frozenset({'chocolate', 'frozen vegetables', 'shrimp'}), support=0.005332622317024397, ordered_statistics=[OrderedStatistic(items_base=frozenset({'chocolate', 'frozen vegetables'}), items_add=frozenset({'shrimp'}), confidence=0.23255813953488375, lift=3.2545123221103784), OrderedStatistic(items_base=frozenset({'chocolate', 'shrimp'}), items_add=frozenset({'frozen vegetables'}), confidence=0.29629629629629634, lift=3.1084175084175087)]),\n",
              " RelationRecord(items=frozenset({'chocolate', 'herb & pepper', 'ground beef'}), support=0.003999466737768298, ordered_statistics=[OrderedStatistic(items_base=frozenset({'chocolate', 'herb & pepper'}), items_add=frozenset({'ground beef'}), confidence=0.4411764705882354, lift=4.4901827759597746)]),\n",
              " RelationRecord(items=frozenset({'chocolate', 'milk', 'soup'}), support=0.003999466737768298, ordered_statistics=[OrderedStatistic(items_base=frozenset({'chocolate', 'soup'}), items_add=frozenset({'milk'}), confidence=0.3947368421052632, lift=3.0462150747238472)]),\n",
              " RelationRecord(items=frozenset({'spaghetti', 'ground beef', 'cooking oil'}), support=0.004799360085321957, ordered_statistics=[OrderedStatistic(items_base=frozenset({'ground beef', 'cooking oil'}), items_add=frozenset({'spaghetti'}), confidence=0.5714285714285714, lift=3.2819951870487856), OrderedStatistic(items_base=frozenset({'spaghetti', 'cooking oil'}), items_add=frozenset({'ground beef'}), confidence=0.3025210084033613, lift=3.0789824749438446)]),\n",
              " RelationRecord(items=frozenset({'herb & pepper', 'eggs', 'ground beef'}), support=0.0041327822956939075, ordered_statistics=[OrderedStatistic(items_base=frozenset({'eggs', 'ground beef'}), items_add=frozenset({'herb & pepper'}), confidence=0.2066666666666667, lift=4.178454627133872), OrderedStatistic(items_base=frozenset({'herb & pepper', 'eggs'}), items_add=frozenset({'ground beef'}), confidence=0.3297872340425532, lift=3.3564912381997174)]),\n",
              " RelationRecord(items=frozenset({'red wine', 'eggs', 'spaghetti'}), support=0.0037328356219170776, ordered_statistics=[OrderedStatistic(items_base=frozenset({'red wine', 'eggs'}), items_add=frozenset({'spaghetti'}), confidence=0.5283018867924528, lift=3.0342974370828397)]),\n",
              " RelationRecord(items=frozenset({'mushroom cream sauce', 'escalope', 'nan'}), support=0.005732568990801226, ordered_statistics=[OrderedStatistic(items_base=frozenset({'mushroom cream sauce'}), items_add=frozenset({'escalope', 'nan'}), confidence=0.3006993006993007, lift=3.790832696715049), OrderedStatistic(items_base=frozenset({'mushroom cream sauce', 'nan'}), items_add=frozenset({'escalope'}), confidence=0.3006993006993007, lift=3.790832696715049)]),\n",
              " RelationRecord(items=frozenset({'pasta', 'escalope', 'nan'}), support=0.005865884548726837, ordered_statistics=[OrderedStatistic(items_base=frozenset({'pasta'}), items_add=frozenset({'escalope', 'nan'}), confidence=0.3728813559322034, lift=4.700811850163794), OrderedStatistic(items_base=frozenset({'pasta', 'nan'}), items_add=frozenset({'escalope'}), confidence=0.3728813559322034, lift=4.700811850163794)]),\n",
              " RelationRecord(items=frozenset({'french fries', 'herb & pepper', 'ground beef'}), support=0.003199573390214638, ordered_statistics=[OrderedStatistic(items_base=frozenset({'french fries', 'ground beef'}), items_add=frozenset({'herb & pepper'}), confidence=0.23076923076923078, lift=4.665768194070081), OrderedStatistic(items_base=frozenset({'french fries', 'herb & pepper'}), items_add=frozenset({'ground beef'}), confidence=0.46153846153846156, lift=4.697421981004071)]),\n",
              " RelationRecord(items=frozenset({'honey', 'nan', 'fromage blanc'}), support=0.003332888948140248, ordered_statistics=[OrderedStatistic(items_base=frozenset({'fromage blanc'}), items_add=frozenset({'honey', 'nan'}), confidence=0.2450980392156863, lift=5.1788180060756694), OrderedStatistic(items_base=frozenset({'nan', 'fromage blanc'}), items_add=frozenset({'honey'}), confidence=0.2450980392156863, lift=5.164270764485569)]),\n",
              " RelationRecord(items=frozenset({'tomatoes', 'frozen vegetables', 'green tea'}), support=0.003332888948140248, ordered_statistics=[OrderedStatistic(items_base=frozenset({'frozen vegetables', 'green tea'}), items_add=frozenset({'tomatoes'}), confidence=0.2314814814814815, lift=3.38468341635983)]),\n",
              " RelationRecord(items=frozenset({'frozen vegetables', 'spaghetti', 'ground beef'}), support=0.008665511265164644, ordered_statistics=[OrderedStatistic(items_base=frozenset({'frozen vegetables', 'spaghetti'}), items_add=frozenset({'ground beef'}), confidence=0.31100478468899523, lift=3.165328208890303)]),\n",
              " RelationRecord(items=frozenset({'olive oil', 'frozen vegetables', 'milk'}), support=0.004799360085321957, ordered_statistics=[OrderedStatistic(items_base=frozenset({'frozen vegetables', 'milk'}), items_add=frozenset({'olive oil'}), confidence=0.20338983050847456, lift=3.088314005352364), OrderedStatistic(items_base=frozenset({'olive oil', 'frozen vegetables'}), items_add=frozenset({'milk'}), confidence=0.4235294117647058, lift=3.2684095860566447)]),\n",
              " RelationRecord(items=frozenset({'frozen vegetables', 'milk', 'soup'}), support=0.003999466737768298, ordered_statistics=[OrderedStatistic(items_base=frozenset({'frozen vegetables', 'soup'}), items_add=frozenset({'milk'}), confidence=0.5, lift=3.858539094650206)]),\n",
              " RelationRecord(items=frozenset({'tomatoes', 'frozen vegetables', 'milk'}), support=0.0041327822956939075, ordered_statistics=[OrderedStatistic(items_base=frozenset({'tomatoes', 'milk'}), items_add=frozenset({'frozen vegetables'}), confidence=0.29523809523809524, lift=3.0973160173160172)]),\n",
              " RelationRecord(items=frozenset({'frozen vegetables', 'mineral water', 'shrimp'}), support=0.007199040127982935, ordered_statistics=[OrderedStatistic(items_base=frozenset({'mineral water', 'shrimp'}), items_add=frozenset({'frozen vegetables'}), confidence=0.30508474576271183, lift=3.200616332819722)]),\n",
              " RelationRecord(items=frozenset({'olive oil', 'frozen vegetables', 'spaghetti'}), support=0.005732568990801226, ordered_statistics=[OrderedStatistic(items_base=frozenset({'frozen vegetables', 'spaghetti'}), items_add=frozenset({'olive oil'}), confidence=0.20574162679425836, lift=3.1240241752707125)]),\n",
              " RelationRecord(items=frozenset({'frozen vegetables', 'spaghetti', 'shrimp'}), support=0.005999200106652446, ordered_statistics=[OrderedStatistic(items_base=frozenset({'frozen vegetables', 'spaghetti'}), items_add=frozenset({'shrimp'}), confidence=0.21531100478468898, lift=3.0131489680782684)]),\n",
              " RelationRecord(items=frozenset({'tomatoes', 'frozen vegetables', 'shrimp'}), support=0.003999466737768298, ordered_statistics=[OrderedStatistic(items_base=frozenset({'frozen vegetables', 'shrimp'}), items_add=frozenset({'tomatoes'}), confidence=0.24000000000000002, lift=3.5092397660818717), OrderedStatistic(items_base=frozenset({'tomatoes', 'frozen vegetables'}), items_add=frozenset({'shrimp'}), confidence=0.2479338842975207, lift=3.4696866905143704), OrderedStatistic(items_base=frozenset({'tomatoes', 'shrimp'}), items_add=frozenset({'frozen vegetables'}), confidence=0.35714285714285715, lift=3.7467532467532467)]),\n",
              " RelationRecord(items=frozenset({'tomatoes', 'frozen vegetables', 'spaghetti'}), support=0.006665777896280496, ordered_statistics=[OrderedStatistic(items_base=frozenset({'frozen vegetables', 'spaghetti'}), items_add=frozenset({'tomatoes'}), confidence=0.23923444976076558, lift=3.4980460188216425), OrderedStatistic(items_base=frozenset({'tomatoes', 'spaghetti'}), items_add=frozenset({'frozen vegetables'}), confidence=0.3184713375796179, lift=3.341053850607991)]),\n",
              " RelationRecord(items=frozenset({'ground beef', 'grated cheese', 'spaghetti'}), support=0.005332622317024397, ordered_statistics=[OrderedStatistic(items_base=frozenset({'spaghetti', 'grated cheese'}), items_add=frozenset({'ground beef'}), confidence=0.3225806451612903, lift=3.283144395325426)]),\n",
              " RelationRecord(items=frozenset({'tomatoes', 'ground beef', 'green tea'}), support=0.0030662578322890282, ordered_statistics=[OrderedStatistic(items_base=frozenset({'ground beef', 'green tea'}), items_add=frozenset({'tomatoes'}), confidence=0.2072072072072072, lift=3.0297490472929067)]),\n",
              " RelationRecord(items=frozenset({'herb & pepper', 'milk', 'ground beef'}), support=0.0035995200639914677, ordered_statistics=[OrderedStatistic(items_base=frozenset({'herb & pepper', 'milk'}), items_add=frozenset({'ground beef'}), confidence=0.3913043478260869, lift=3.9825968969382335)]),\n",
              " RelationRecord(items=frozenset({'herb & pepper', 'mineral water', 'ground beef'}), support=0.006665777896280496, ordered_statistics=[OrderedStatistic(items_base=frozenset({'herb & pepper', 'mineral water'}), items_add=frozenset({'ground beef'}), confidence=0.39062500000000006, lift=3.975682666214383)]),\n",
              " RelationRecord(items=frozenset({'herb & pepper', 'ground beef', 'nan'}), support=0.015997866951073192, ordered_statistics=[OrderedStatistic(items_base=frozenset({'herb & pepper'}), items_add=frozenset({'ground beef', 'nan'}), confidence=0.3234501347708895, lift=3.2919938411349285), OrderedStatistic(items_base=frozenset({'herb & pepper', 'nan'}), items_add=frozenset({'ground beef'}), confidence=0.3234501347708895, lift=3.2919938411349285)]),\n",
              " RelationRecord(items=frozenset({'herb & pepper', 'spaghetti', 'ground beef'}), support=0.006399146780429276, ordered_statistics=[OrderedStatistic(items_base=frozenset({'herb & pepper', 'spaghetti'}), items_add=frozenset({'ground beef'}), confidence=0.3934426229508197, lift=4.004359721511667)]),\n",
              " RelationRecord(items=frozenset({'olive oil', 'milk', 'ground beef'}), support=0.004932675643247567, ordered_statistics=[OrderedStatistic(items_base=frozenset({'milk', 'ground beef'}), items_add=frozenset({'olive oil'}), confidence=0.22424242424242427, lift=3.40494417862839)]),\n",
              " RelationRecord(items=frozenset({'milk', 'ground beef', 'soup'}), support=0.003999466737768298, ordered_statistics=[OrderedStatistic(items_base=frozenset({'ground beef', 'soup'}), items_add=frozenset({'milk'}), confidence=0.4109589041095891, lift=3.1714019956029094)]),\n",
              " RelationRecord(items=frozenset({'tomato sauce', 'ground beef', 'nan'}), support=0.005332622317024397, ordered_statistics=[OrderedStatistic(items_base=frozenset({'tomato sauce'}), items_add=frozenset({'ground beef', 'nan'}), confidence=0.3773584905660377, lift=3.840659481324083), OrderedStatistic(items_base=frozenset({'tomato sauce', 'nan'}), items_add=frozenset({'ground beef'}), confidence=0.3773584905660377, lift=3.840659481324083)]),\n",
              " RelationRecord(items=frozenset({'pepper', 'spaghetti', 'ground beef'}), support=0.003332888948140248, ordered_statistics=[OrderedStatistic(items_base=frozenset({'pepper', 'spaghetti'}), items_add=frozenset({'ground beef'}), confidence=0.33783783783783783, lift=3.4384282518610876)]),\n",
              " RelationRecord(items=frozenset({'spaghetti', 'ground beef', 'shrimp'}), support=0.005999200106652446, ordered_statistics=[OrderedStatistic(items_base=frozenset({'ground beef', 'shrimp'}), items_add=frozenset({'spaghetti'}), confidence=0.5232558139534884, lift=3.005315360233627)]),\n",
              " RelationRecord(items=frozenset({'tomato sauce', 'spaghetti', 'ground beef'}), support=0.0030662578322890282, ordered_statistics=[OrderedStatistic(items_base=frozenset({'tomato sauce'}), items_add=frozenset({'ground beef', 'spaghetti'}), confidence=0.2169811320754717, lift=5.535970992170453), OrderedStatistic(items_base=frozenset({'tomato sauce', 'ground beef'}), items_add=frozenset({'spaghetti'}), confidence=0.5750000000000001, lift=3.3025076569678413), OrderedStatistic(items_base=frozenset({'tomato sauce', 'spaghetti'}), items_add=frozenset({'ground beef'}), confidence=0.4893617021276596, lift=4.980599901844742)]),\n",
              " RelationRecord(items=frozenset({'light cream', 'spaghetti', 'mineral water'}), support=0.003199573390214638, ordered_statistics=[OrderedStatistic(items_base=frozenset({'light cream'}), items_add=frozenset({'mineral water', 'spaghetti'}), confidence=0.20512820512820515, lift=3.4345238095238098)]),\n",
              " RelationRecord(items=frozenset({'olive oil', 'light cream', 'nan'}), support=0.003199573390214638, ordered_statistics=[OrderedStatistic(items_base=frozenset({'light cream'}), items_add=frozenset({'olive oil', 'nan'}), confidence=0.20512820512820515, lift=3.121027721433401), OrderedStatistic(items_base=frozenset({'light cream', 'nan'}), items_add=frozenset({'olive oil'}), confidence=0.20512820512820515, lift=3.1147098515519573)]),\n",
              " RelationRecord(items=frozenset({'olive oil', 'milk', 'shrimp'}), support=0.003199573390214638, ordered_statistics=[OrderedStatistic(items_base=frozenset({'olive oil', 'shrimp'}), items_add=frozenset({'milk'}), confidence=0.3934426229508197, lift=3.0362274843149164)]),\n",
              " RelationRecord(items=frozenset({'olive oil', 'milk', 'soup'}), support=0.0035995200639914677, ordered_statistics=[OrderedStatistic(items_base=frozenset({'olive oil', 'milk'}), items_add=frozenset({'soup'}), confidence=0.2109375, lift=4.174781497361478), OrderedStatistic(items_base=frozenset({'milk', 'soup'}), items_add=frozenset({'olive oil'}), confidence=0.23684210526315788, lift=3.5962603878116344), OrderedStatistic(items_base=frozenset({'olive oil', 'soup'}), items_add=frozenset({'milk'}), confidence=0.4029850746268656, lift=3.1098673300165833)]),\n",
              " RelationRecord(items=frozenset({'olive oil', 'spaghetti', 'milk'}), support=0.007199040127982935, ordered_statistics=[OrderedStatistic(items_base=frozenset({'spaghetti', 'milk'}), items_add=frozenset({'olive oil'}), confidence=0.20300751879699247, lift=3.0825089038385434)]),\n",
              " RelationRecord(items=frozenset({'tomatoes', 'milk', 'soup'}), support=0.0030662578322890282, ordered_statistics=[OrderedStatistic(items_base=frozenset({'tomatoes', 'milk'}), items_add=frozenset({'soup'}), confidence=0.21904761904761905, lift=4.335293378565146), OrderedStatistic(items_base=frozenset({'tomatoes', 'soup'}), items_add=frozenset({'milk'}), confidence=0.44230769230769235, lift=3.4133230452674903)]),\n",
              " RelationRecord(items=frozenset({'spaghetti', 'milk', 'whole wheat pasta'}), support=0.003999466737768298, ordered_statistics=[OrderedStatistic(items_base=frozenset({'spaghetti', 'whole wheat pasta'}), items_add=frozenset({'milk'}), confidence=0.4545454545454546, lift=3.5077628133183696)]),\n",
              " RelationRecord(items=frozenset({'olive oil', 'mineral water', 'soup'}), support=0.005199306759098787, ordered_statistics=[OrderedStatistic(items_base=frozenset({'mineral water', 'soup'}), items_add=frozenset({'olive oil'}), confidence=0.22543352601156072, lift=3.4230301186492245)]),\n",
              " RelationRecord(items=frozenset({'olive oil', 'mineral water', 'whole wheat pasta'}), support=0.0038661511798426876, ordered_statistics=[OrderedStatistic(items_base=frozenset({'mineral water', 'whole wheat pasta'}), items_add=frozenset({'olive oil'}), confidence=0.4027777777777778, lift=6.115862573099416)]),\n",
              " RelationRecord(items=frozenset({'olive oil', 'nan', 'whole wheat pasta'}), support=0.007998933475536596, ordered_statistics=[OrderedStatistic(items_base=frozenset({'whole wheat pasta'}), items_add=frozenset({'olive oil', 'nan'}), confidence=0.2714932126696833, lift=4.13077198425009), OrderedStatistic(items_base=frozenset({'nan', 'whole wheat pasta'}), items_add=frozenset({'olive oil'}), confidence=0.2714932126696833, lift=4.122410097642296)]),\n",
              " RelationRecord(items=frozenset({'pasta', 'nan', 'shrimp'}), support=0.005065991201173177, ordered_statistics=[OrderedStatistic(items_base=frozenset({'pasta'}), items_add=frozenset({'nan', 'shrimp'}), confidence=0.3220338983050847, lift=4.515095833993347), OrderedStatistic(items_base=frozenset({'pasta', 'nan'}), items_add=frozenset({'shrimp'}), confidence=0.3220338983050847, lift=4.506672147735896)]),\n",
              " RelationRecord(items=frozenset({'olive oil', 'spaghetti', 'pancakes'}), support=0.005065991201173177, ordered_statistics=[OrderedStatistic(items_base=frozenset({'spaghetti', 'pancakes'}), items_add=frozenset({'olive oil'}), confidence=0.20105820105820105, lift=3.0529100529100526)]),\n",
              " RelationRecord(items=frozenset({'olive oil', 'tomatoes', 'spaghetti'}), support=0.004399413411545127, ordered_statistics=[OrderedStatistic(items_base=frozenset({'olive oil', 'tomatoes'}), items_add=frozenset({'spaghetti'}), confidence=0.6111111111111112, lift=3.5099115194827295), OrderedStatistic(items_base=frozenset({'tomatoes', 'spaghetti'}), items_add=frozenset({'olive oil'}), confidence=0.21019108280254778, lift=3.19158565202816)]),\n",
              " RelationRecord(items=frozenset({'tomatoes', 'whole wheat rice', 'spaghetti'}), support=0.0030662578322890282, ordered_statistics=[OrderedStatistic(items_base=frozenset({'whole wheat rice', 'spaghetti'}), items_add=frozenset({'tomatoes'}), confidence=0.2169811320754717, lift=3.1726617382029496)]),\n",
              " RelationRecord(items=frozenset({'avocado', 'milk', 'nan', 'spaghetti'}), support=0.003332888948140248, ordered_statistics=[OrderedStatistic(items_base=frozenset({'avocado', 'spaghetti'}), items_add=frozenset({'milk', 'nan'}), confidence=0.41666666666666663, lift=3.215449245541838), OrderedStatistic(items_base=frozenset({'avocado', 'spaghetti', 'nan'}), items_add=frozenset({'milk'}), confidence=0.41666666666666663, lift=3.215449245541838)]),\n",
              " RelationRecord(items=frozenset({'cake', 'burgers', 'milk', 'nan'}), support=0.0037328356219170776, ordered_statistics=[OrderedStatistic(items_base=frozenset({'cake', 'milk'}), items_add=frozenset({'burgers', 'nan'}), confidence=0.27999999999999997, lift=3.211437308868501), OrderedStatistic(items_base=frozenset({'cake', 'milk', 'nan'}), items_add=frozenset({'burgers'}), confidence=0.27999999999999997, lift=3.211437308868501)]),\n",
              " RelationRecord(items=frozenset({'chocolate', 'burgers', 'turkey', 'nan'}), support=0.0030662578322890282, ordered_statistics=[OrderedStatistic(items_base=frozenset({'chocolate', 'turkey'}), items_add=frozenset({'burgers', 'nan'}), confidence=0.27058823529411763, lift=3.1034898363014927), OrderedStatistic(items_base=frozenset({'chocolate', 'turkey', 'nan'}), items_add=frozenset({'burgers'}), confidence=0.27058823529411763, lift=3.1034898363014927)]),\n",
              " RelationRecord(items=frozenset({'turkey', 'burgers', 'milk', 'nan'}), support=0.003199573390214638, ordered_statistics=[OrderedStatistic(items_base=frozenset({'turkey', 'milk'}), items_add=frozenset({'burgers', 'nan'}), confidence=0.2823529411764706, lift=3.2384241770102533), OrderedStatistic(items_base=frozenset({'turkey', 'milk', 'nan'}), items_add=frozenset({'burgers'}), confidence=0.2823529411764706, lift=3.2384241770102533)]),\n",
              " RelationRecord(items=frozenset({'cake', 'tomatoes', 'frozen vegetables', 'nan'}), support=0.0030662578322890282, ordered_statistics=[OrderedStatistic(items_base=frozenset({'cake', 'frozen vegetables'}), items_add=frozenset({'tomatoes', 'nan'}), confidence=0.2987012987012987, lift=4.367560314928736), OrderedStatistic(items_base=frozenset({'cake', 'tomatoes'}), items_add=frozenset({'frozen vegetables', 'nan'}), confidence=0.36507936507936506, lift=3.8300144300144296), OrderedStatistic(items_base=frozenset({'cake', 'frozen vegetables', 'nan'}), items_add=frozenset({'tomatoes'}), confidence=0.2987012987012987, lift=4.367560314928736), OrderedStatistic(items_base=frozenset({'cake', 'tomatoes', 'nan'}), items_add=frozenset({'frozen vegetables'}), confidence=0.36507936507936506, lift=3.8300144300144296)]),\n",
              " RelationRecord(items=frozenset({'cereals', 'spaghetti', 'ground beef', 'nan'}), support=0.0030662578322890282, ordered_statistics=[OrderedStatistic(items_base=frozenset({'cereals', 'ground beef'}), items_add=frozenset({'spaghetti', 'nan'}), confidence=0.6764705882352942, lift=3.8853031258445188), OrderedStatistic(items_base=frozenset({'cereals', 'spaghetti'}), items_add=frozenset({'ground beef', 'nan'}), confidence=0.45999999999999996, lift=4.681763907734057), OrderedStatistic(items_base=frozenset({'cereals', 'ground beef', 'nan'}), items_add=frozenset({'spaghetti'}), confidence=0.6764705882352942, lift=3.8853031258445188), OrderedStatistic(items_base=frozenset({'cereals', 'spaghetti', 'nan'}), items_add=frozenset({'ground beef'}), confidence=0.45999999999999996, lift=4.681763907734057)]),\n",
              " RelationRecord(items=frozenset({'chicken', 'ground beef', 'milk', 'nan'}), support=0.0038661511798426876, ordered_statistics=[OrderedStatistic(items_base=frozenset({'chicken', 'ground beef'}), items_add=frozenset({'milk', 'nan'}), confidence=0.40845070422535207, lift=3.152046020981858), OrderedStatistic(items_base=frozenset({'chicken', 'ground beef', 'nan'}), items_add=frozenset({'milk'}), confidence=0.40845070422535207, lift=3.152046020981858)]),\n",
              " RelationRecord(items=frozenset({'olive oil', 'chicken', 'milk', 'nan'}), support=0.0035995200639914677, ordered_statistics=[OrderedStatistic(items_base=frozenset({'chicken', 'milk'}), items_add=frozenset({'olive oil', 'nan'}), confidence=0.24324324324324323, lift=3.700948412915958), OrderedStatistic(items_base=frozenset({'olive oil', 'chicken'}), items_add=frozenset({'milk', 'nan'}), confidence=0.5, lift=3.858539094650206), OrderedStatistic(items_base=frozenset({'olive oil', 'milk'}), items_add=frozenset({'chicken', 'nan'}), confidence=0.2109375, lift=3.51609375), OrderedStatistic(items_base=frozenset({'chicken', 'milk', 'nan'}), items_add=frozenset({'olive oil'}), confidence=0.24324324324324323, lift=3.693456614509246), OrderedStatistic(items_base=frozenset({'olive oil', 'chicken', 'nan'}), items_add=frozenset({'milk'}), confidence=0.5, lift=3.858539094650206), OrderedStatistic(items_base=frozenset({'olive oil', 'milk', 'nan'}), items_add=frozenset({'chicken'}), confidence=0.2109375, lift=3.51609375)]),\n",
              " RelationRecord(items=frozenset({'olive oil', 'chicken', 'spaghetti', 'nan'}), support=0.0034662045060658577, ordered_statistics=[OrderedStatistic(items_base=frozenset({'chicken', 'spaghetti'}), items_add=frozenset({'olive oil', 'nan'}), confidence=0.20155038759689922, lift=3.0665911914083996), OrderedStatistic(items_base=frozenset({'chicken', 'spaghetti', 'nan'}), items_add=frozenset({'olive oil'}), confidence=0.20155038759689922, lift=3.0603835169318647)]),\n",
              " RelationRecord(items=frozenset({'chocolate', 'mineral water', 'eggs', 'ground beef'}), support=0.003999466737768298, ordered_statistics=[OrderedStatistic(items_base=frozenset({'eggs', 'ground beef'}), items_add=frozenset({'chocolate', 'mineral water'}), confidence=0.20000000000000004, lift=3.7979746835443047), OrderedStatistic(items_base=frozenset({'chocolate', 'eggs', 'mineral water'}), items_add=frozenset({'ground beef'}), confidence=0.29702970297029707, lift=3.023093354111531)]),\n",
              " RelationRecord(items=frozenset({'chocolate', 'frozen vegetables', 'mineral water', 'ground beef'}), support=0.003332888948140248, ordered_statistics=[OrderedStatistic(items_base=frozenset({'chocolate', 'frozen vegetables', 'mineral water'}), items_add=frozenset({'ground beef'}), confidence=0.34246575342465757, lift=3.4855300087358976), OrderedStatistic(items_base=frozenset({'chocolate', 'mineral water', 'ground beef'}), items_add=frozenset({'frozen vegetables'}), confidence=0.30487804878048785, lift=3.1984478935698455)]),\n",
              " RelationRecord(items=frozenset({'chocolate', 'frozen vegetables', 'spaghetti', 'ground beef'}), support=0.0030662578322890282, ordered_statistics=[OrderedStatistic(items_base=frozenset({'chocolate', 'frozen vegetables', 'ground beef'}), items_add=frozenset({'spaghetti'}), confidence=0.5348837209302326, lift=3.0721001460165964), OrderedStatistic(items_base=frozenset({'chocolate', 'frozen vegetables', 'spaghetti'}), items_add=frozenset({'ground beef'}), confidence=0.3898305084745763, lift=3.967596531978015), OrderedStatistic(items_base=frozenset({'chocolate', 'spaghetti', 'ground beef'}), items_add=frozenset({'frozen vegetables'}), confidence=0.33333333333333337, lift=3.4969696969696975)]),\n",
              " RelationRecord(items=frozenset({'chocolate', 'frozen vegetables', 'mineral water', 'milk'}), support=0.003999466737768298, ordered_statistics=[OrderedStatistic(items_base=frozenset({'chocolate', 'frozen vegetables', 'mineral water'}), items_add=frozenset({'milk'}), confidence=0.4109589041095891, lift=3.1714019956029094)]),\n",
              " RelationRecord(items=frozenset({'chocolate', 'frozen vegetables', 'spaghetti', 'milk'}), support=0.0034662045060658577, ordered_statistics=[OrderedStatistic(items_base=frozenset({'chocolate', 'frozen vegetables', 'spaghetti'}), items_add=frozenset({'milk'}), confidence=0.44067796610169485, lift=3.4007463207086555), OrderedStatistic(items_base=frozenset({'chocolate', 'spaghetti', 'milk'}), items_add=frozenset({'frozen vegetables'}), confidence=0.3170731707317073, lift=3.3263858093126384)]),\n",
              " RelationRecord(items=frozenset({'chocolate', 'frozen vegetables', 'mineral water', 'shrimp'}), support=0.003199573390214638, ordered_statistics=[OrderedStatistic(items_base=frozenset({'chocolate', 'frozen vegetables', 'mineral water'}), items_add=frozenset({'shrimp'}), confidence=0.32876712328767127, lift=4.600899611531385), OrderedStatistic(items_base=frozenset({'chocolate', 'mineral water', 'shrimp'}), items_add=frozenset({'frozen vegetables'}), confidence=0.4210526315789474, lift=4.417224880382776)]),\n",
              " RelationRecord(items=frozenset({'chocolate', 'frozen vegetables', 'nan', 'shrimp'}), support=0.005332622317024397, ordered_statistics=[OrderedStatistic(items_base=frozenset({'chocolate', 'frozen vegetables'}), items_add=frozenset({'nan', 'shrimp'}), confidence=0.23255813953488375, lift=3.260595522712454), OrderedStatistic(items_base=frozenset({'chocolate', 'shrimp'}), items_add=frozenset({'frozen vegetables', 'nan'}), confidence=0.29629629629629634, lift=3.1084175084175087), OrderedStatistic(items_base=frozenset({'chocolate', 'frozen vegetables', 'nan'}), items_add=frozenset({'shrimp'}), confidence=0.23255813953488375, lift=3.2545123221103784), OrderedStatistic(items_base=frozenset({'chocolate', 'nan', 'shrimp'}), items_add=frozenset({'frozen vegetables'}), confidence=0.29629629629629634, lift=3.1084175084175087)]),\n",
              " RelationRecord(items=frozenset({'chocolate', 'herb & pepper', 'ground beef', 'nan'}), support=0.003999466737768298, ordered_statistics=[OrderedStatistic(items_base=frozenset({'chocolate', 'herb & pepper'}), items_add=frozenset({'ground beef', 'nan'}), confidence=0.4411764705882354, lift=4.4901827759597746), OrderedStatistic(items_base=frozenset({'chocolate', 'herb & pepper', 'nan'}), items_add=frozenset({'ground beef'}), confidence=0.4411764705882354, lift=4.4901827759597746)]),\n",
              " RelationRecord(items=frozenset({'chocolate', 'soup', 'milk', 'nan'}), support=0.003999466737768298, ordered_statistics=[OrderedStatistic(items_base=frozenset({'chocolate', 'soup'}), items_add=frozenset({'milk', 'nan'}), confidence=0.3947368421052632, lift=3.0462150747238472), OrderedStatistic(items_base=frozenset({'chocolate', 'soup', 'nan'}), items_add=frozenset({'milk'}), confidence=0.3947368421052632, lift=3.0462150747238472)]),\n",
              " RelationRecord(items=frozenset({'olive oil', 'chocolate', 'spaghetti', 'mineral water'}), support=0.0038661511798426876, ordered_statistics=[OrderedStatistic(items_base=frozenset({'olive oil', 'chocolate'}), items_add=frozenset({'mineral water', 'spaghetti'}), confidence=0.23577235772357724, lift=3.947608159117306), OrderedStatistic(items_base=frozenset({'chocolate', 'spaghetti', 'mineral water'}), items_add=frozenset({'olive oil'}), confidence=0.2436974789915966, lift=3.700353825740822)]),\n",
              " RelationRecord(items=frozenset({'chocolate', 'spaghetti', 'mineral water', 'shrimp'}), support=0.0034662045060658577, ordered_statistics=[OrderedStatistic(items_base=frozenset({'chocolate', 'spaghetti', 'mineral water'}), items_add=frozenset({'shrimp'}), confidence=0.21848739495798317, lift=3.0576006522011783)]),\n",
              " RelationRecord(items=frozenset({'spaghetti', 'ground beef', 'nan', 'cooking oil'}), support=0.004799360085321957, ordered_statistics=[OrderedStatistic(items_base=frozenset({'ground beef', 'cooking oil'}), items_add=frozenset({'spaghetti', 'nan'}), confidence=0.5714285714285714, lift=3.2819951870487856), OrderedStatistic(items_base=frozenset({'spaghetti', 'cooking oil'}), items_add=frozenset({'ground beef', 'nan'}), confidence=0.3025210084033613, lift=3.0789824749438446), OrderedStatistic(items_base=frozenset({'ground beef', 'nan', 'cooking oil'}), items_add=frozenset({'spaghetti'}), confidence=0.5714285714285714, lift=3.2819951870487856), OrderedStatistic(items_base=frozenset({'spaghetti', 'nan', 'cooking oil'}), items_add=frozenset({'ground beef'}), confidence=0.3025210084033613, lift=3.0789824749438446)]),\n",
              " RelationRecord(items=frozenset({'frozen vegetables', 'eggs', 'milk', 'mineral water'}), support=0.0037328356219170776, ordered_statistics=[OrderedStatistic(items_base=frozenset({'frozen vegetables', 'eggs', 'mineral water'}), items_add=frozenset({'milk'}), confidence=0.411764705882353, lift=3.177620430888405)]),\n",
              " RelationRecord(items=frozenset({'herb & pepper', 'eggs', 'ground beef', 'nan'}), support=0.0041327822956939075, ordered_statistics=[OrderedStatistic(items_base=frozenset({'eggs', 'ground beef'}), items_add=frozenset({'herb & pepper', 'nan'}), confidence=0.2066666666666667, lift=4.178454627133872), OrderedStatistic(items_base=frozenset({'herb & pepper', 'eggs'}), items_add=frozenset({'ground beef', 'nan'}), confidence=0.3297872340425532, lift=3.3564912381997174), OrderedStatistic(items_base=frozenset({'eggs', 'ground beef', 'nan'}), items_add=frozenset({'herb & pepper'}), confidence=0.2066666666666667, lift=4.178454627133872), OrderedStatistic(items_base=frozenset({'herb & pepper', 'eggs', 'nan'}), items_add=frozenset({'ground beef'}), confidence=0.3297872340425532, lift=3.3564912381997174)]),\n",
              " RelationRecord(items=frozenset({'red wine', 'eggs', 'spaghetti', 'nan'}), support=0.0037328356219170776, ordered_statistics=[OrderedStatistic(items_base=frozenset({'red wine', 'eggs'}), items_add=frozenset({'spaghetti', 'nan'}), confidence=0.5283018867924528, lift=3.0342974370828397), OrderedStatistic(items_base=frozenset({'red wine', 'eggs', 'nan'}), items_add=frozenset({'spaghetti'}), confidence=0.5283018867924528, lift=3.0342974370828397)]),\n",
              " RelationRecord(items=frozenset({'french fries', 'herb & pepper', 'ground beef', 'nan'}), support=0.003199573390214638, ordered_statistics=[OrderedStatistic(items_base=frozenset({'french fries', 'ground beef'}), items_add=frozenset({'herb & pepper', 'nan'}), confidence=0.23076923076923078, lift=4.665768194070081), OrderedStatistic(items_base=frozenset({'french fries', 'herb & pepper'}), items_add=frozenset({'ground beef', 'nan'}), confidence=0.46153846153846156, lift=4.697421981004071), OrderedStatistic(items_base=frozenset({'french fries', 'ground beef', 'nan'}), items_add=frozenset({'herb & pepper'}), confidence=0.23076923076923078, lift=4.665768194070081), OrderedStatistic(items_base=frozenset({'french fries', 'herb & pepper', 'nan'}), items_add=frozenset({'ground beef'}), confidence=0.46153846153846156, lift=4.697421981004071)]),\n",
              " RelationRecord(items=frozenset({'mineral water', 'frozen smoothie', 'milk', 'spaghetti'}), support=0.003199573390214638, ordered_statistics=[OrderedStatistic(items_base=frozenset({'frozen smoothie', 'milk'}), items_add=frozenset({'spaghetti', 'mineral water'}), confidence=0.22429906542056074, lift=3.7555073431241657), OrderedStatistic(items_base=frozenset({'frozen smoothie', 'spaghetti'}), items_add=frozenset({'milk', 'mineral water'}), confidence=0.20512820512820515, lift=4.274074074074075), OrderedStatistic(items_base=frozenset({'frozen smoothie', 'mineral water', 'spaghetti'}), items_add=frozenset({'milk'}), confidence=0.4705882352941177, lift=3.631566206729606), OrderedStatistic(items_base=frozenset({'mineral water', 'spaghetti', 'milk'}), items_add=frozenset({'frozen smoothie'}), confidence=0.2033898305084746, lift=3.211846565566459)]),\n",
              " RelationRecord(items=frozenset({'tomatoes', 'frozen vegetables', 'nan', 'green tea'}), support=0.003332888948140248, ordered_statistics=[OrderedStatistic(items_base=frozenset({'frozen vegetables', 'green tea'}), items_add=frozenset({'tomatoes', 'nan'}), confidence=0.2314814814814815, lift=3.38468341635983), OrderedStatistic(items_base=frozenset({'frozen vegetables', 'nan', 'green tea'}), items_add=frozenset({'tomatoes'}), confidence=0.2314814814814815, lift=3.38468341635983)]),\n",
              " RelationRecord(items=frozenset({'frozen vegetables', 'milk', 'ground beef', 'mineral water'}), support=0.0037328356219170776, ordered_statistics=[OrderedStatistic(items_base=frozenset({'frozen vegetables', 'ground beef'}), items_add=frozenset({'mineral water', 'milk'}), confidence=0.22047244094488186, lift=4.593788276465442), OrderedStatistic(items_base=frozenset({'frozen vegetables', 'mineral water', 'ground beef'}), items_add=frozenset({'milk'}), confidence=0.40579710144927533, lift=3.1315679608755294), OrderedStatistic(items_base=frozenset({'frozen vegetables', 'mineral water', 'milk'}), items_add=frozenset({'ground beef'}), confidence=0.3373493975903614, lift=3.4334570302921317), OrderedStatistic(items_base=frozenset({'mineral water', 'milk', 'ground beef'}), items_add=frozenset({'frozen vegetables'}), confidence=0.3373493975903614, lift=3.539101861993428)]),\n",
              " RelationRecord(items=frozenset({'frozen vegetables', 'milk', 'ground beef', 'spaghetti'}), support=0.0030662578322890282, ordered_statistics=[OrderedStatistic(items_base=frozenset({'frozen vegetables', 'milk', 'ground beef'}), items_add=frozenset({'spaghetti'}), confidence=0.5348837209302326, lift=3.0721001460165964), OrderedStatistic(items_base=frozenset({'frozen vegetables', 'spaghetti', 'milk'}), items_add=frozenset({'ground beef'}), confidence=0.3709677419354839, lift=3.7756160546242397), OrderedStatistic(items_base=frozenset({'milk', 'ground beef', 'spaghetti'}), items_add=frozenset({'frozen vegetables'}), confidence=0.3150684931506849, lift=3.305354919053549)]),\n",
              " RelationRecord(items=frozenset({'frozen vegetables', 'mineral water', 'ground beef', 'spaghetti'}), support=0.004399413411545127, ordered_statistics=[OrderedStatistic(items_base=frozenset({'frozen vegetables', 'ground beef'}), items_add=frozenset({'spaghetti', 'mineral water'}), confidence=0.25984251968503935, lift=4.350622187851519), OrderedStatistic(items_base=frozenset({'frozen vegetables', 'spaghetti', 'mineral water'}), items_add=frozenset({'ground beef'}), confidence=0.3666666666666667, lift=3.7318407960199007)]),\n",
              " RelationRecord(items=frozenset({'frozen vegetables', 'spaghetti', 'ground beef', 'nan'}), support=0.008665511265164644, ordered_statistics=[OrderedStatistic(items_base=frozenset({'frozen vegetables', 'spaghetti'}), items_add=frozenset({'ground beef', 'nan'}), confidence=0.31100478468899523, lift=3.165328208890303), OrderedStatistic(items_base=frozenset({'frozen vegetables', 'spaghetti', 'nan'}), items_add=frozenset({'ground beef'}), confidence=0.31100478468899523, lift=3.165328208890303)]),\n",
              " RelationRecord(items=frozenset({'olive oil', 'frozen vegetables', 'mineral water', 'milk'}), support=0.003332888948140248, ordered_statistics=[OrderedStatistic(items_base=frozenset({'olive oil', 'frozen vegetables'}), items_add=frozenset({'milk', 'mineral water'}), confidence=0.29411764705882354, lift=6.12826797385621), OrderedStatistic(items_base=frozenset({'frozen vegetables', 'mineral water', 'milk'}), items_add=frozenset({'olive oil'}), confidence=0.30120481927710846, lift=4.573557387444516), OrderedStatistic(items_base=frozenset({'olive oil', 'frozen vegetables', 'mineral water'}), items_add=frozenset({'milk'}), confidence=0.5102040816326531, lift=3.937284790459394), OrderedStatistic(items_base=frozenset({'olive oil', 'mineral water', 'milk'}), items_add=frozenset({'frozen vegetables'}), confidence=0.39062500000000006, lift=4.098011363636364)]),\n",
              " RelationRecord(items=frozenset({'frozen vegetables', 'mineral water', 'milk', 'soup'}), support=0.0030662578322890282, ordered_statistics=[OrderedStatistic(items_base=frozenset({'frozen vegetables', 'soup'}), items_add=frozenset({'milk', 'mineral water'}), confidence=0.3833333333333333, lift=7.987175925925926), OrderedStatistic(items_base=frozenset({'milk', 'soup'}), items_add=frozenset({'frozen vegetables', 'mineral water'}), confidence=0.20175438596491227, lift=5.646864362398533), OrderedStatistic(items_base=frozenset({'frozen vegetables', 'mineral water', 'milk'}), items_add=frozenset({'soup'}), confidence=0.27710843373493976, lift=5.484407286136631), OrderedStatistic(items_base=frozenset({'frozen vegetables', 'milk', 'soup'}), items_add=frozenset({'mineral water'}), confidence=0.7666666666666666, lift=3.21631245339299), OrderedStatistic(items_base=frozenset({'frozen vegetables', 'mineral water', 'soup'}), items_add=frozenset({'milk'}), confidence=0.6052631578947368, lift=4.670863114576565), OrderedStatistic(items_base=frozenset({'mineral water', 'milk', 'soup'}), items_add=frozenset({'frozen vegetables'}), confidence=0.35937500000000006, lift=3.7701704545454553)]),\n",
              " RelationRecord(items=frozenset({'frozen vegetables', 'mineral water', 'milk', 'spaghetti'}), support=0.004532728969470737, ordered_statistics=[OrderedStatistic(items_base=frozenset({'mineral water', 'spaghetti', 'milk'}), items_add=frozenset({'frozen vegetables'}), confidence=0.28813559322033894, lift=3.0228043143297376)]),\n",
              " RelationRecord(items=frozenset({'olive oil', 'frozen vegetables', 'milk', 'nan'}), support=0.004799360085321957, ordered_statistics=[OrderedStatistic(items_base=frozenset({'frozen vegetables', 'milk'}), items_add=frozenset({'olive oil', 'nan'}), confidence=0.20338983050847456, lift=3.094578333963626), OrderedStatistic(items_base=frozenset({'olive oil', 'frozen vegetables'}), items_add=frozenset({'milk', 'nan'}), confidence=0.4235294117647058, lift=3.2684095860566447), OrderedStatistic(items_base=frozenset({'frozen vegetables', 'milk', 'nan'}), items_add=frozenset({'olive oil'}), confidence=0.20338983050847456, lift=3.088314005352364), OrderedStatistic(items_base=frozenset({'olive oil', 'frozen vegetables', 'nan'}), items_add=frozenset({'milk'}), confidence=0.4235294117647058, lift=3.2684095860566447)]),\n",
              " RelationRecord(items=frozenset({'soup', 'frozen vegetables', 'milk', 'nan'}), support=0.003999466737768298, ordered_statistics=[OrderedStatistic(items_base=frozenset({'frozen vegetables', 'soup'}), items_add=frozenset({'milk', 'nan'}), confidence=0.5, lift=3.858539094650206), OrderedStatistic(items_base=frozenset({'soup', 'frozen vegetables', 'nan'}), items_add=frozenset({'milk'}), confidence=0.5, lift=3.858539094650206)]),\n",
              " RelationRecord(items=frozenset({'tomatoes', 'frozen vegetables', 'milk', 'nan'}), support=0.0041327822956939075, ordered_statistics=[OrderedStatistic(items_base=frozenset({'tomatoes', 'milk'}), items_add=frozenset({'frozen vegetables', 'nan'}), confidence=0.29523809523809524, lift=3.0973160173160172), OrderedStatistic(items_base=frozenset({'tomatoes', 'milk', 'nan'}), items_add=frozenset({'frozen vegetables'}), confidence=0.29523809523809524, lift=3.0973160173160172)]),\n",
              " RelationRecord(items=frozenset({'frozen vegetables', 'mineral water', 'nan', 'shrimp'}), support=0.007199040127982935, ordered_statistics=[OrderedStatistic(items_base=frozenset({'mineral water', 'shrimp'}), items_add=frozenset({'frozen vegetables', 'nan'}), confidence=0.30508474576271183, lift=3.200616332819722), OrderedStatistic(items_base=frozenset({'mineral water', 'nan', 'shrimp'}), items_add=frozenset({'frozen vegetables'}), confidence=0.3068181818181818, lift=3.218801652892562)]),\n",
              " RelationRecord(items=frozenset({'frozen vegetables', 'spaghetti', 'mineral water', 'shrimp'}), support=0.003332888948140248, ordered_statistics=[OrderedStatistic(items_base=frozenset({'frozen vegetables', 'shrimp'}), items_add=frozenset({'mineral water', 'spaghetti'}), confidence=0.2, lift=3.3486607142857148), OrderedStatistic(items_base=frozenset({'frozen vegetables', 'spaghetti', 'mineral water'}), items_add=frozenset({'shrimp'}), confidence=0.2777777777777778, lift=3.8873341625207294), OrderedStatistic(items_base=frozenset({'spaghetti', 'mineral water', 'shrimp'}), items_add=frozenset({'frozen vegetables'}), confidence=0.39062500000000006, lift=4.098011363636364)]),\n",
              " RelationRecord(items=frozenset({'tomatoes', 'frozen vegetables', 'spaghetti', 'mineral water'}), support=0.0030662578322890282, ordered_statistics=[OrderedStatistic(items_base=frozenset({'frozen vegetables', 'spaghetti', 'mineral water'}), items_add=frozenset({'tomatoes'}), confidence=0.2555555555555556, lift=3.7366904916612524), OrderedStatistic(items_base=frozenset({'tomatoes', 'frozen vegetables', 'mineral water'}), items_add=frozenset({'spaghetti'}), confidence=0.5227272727272727, lift=3.0022796881525826), OrderedStatistic(items_base=frozenset({'tomatoes', 'spaghetti', 'mineral water'}), items_add=frozenset({'frozen vegetables'}), confidence=0.32857142857142857, lift=3.447012987012987)]),\n",
              " RelationRecord(items=frozenset({'olive oil', 'frozen vegetables', 'spaghetti', 'nan'}), support=0.005732568990801226, ordered_statistics=[OrderedStatistic(items_base=frozenset({'frozen vegetables', 'spaghetti'}), items_add=frozenset({'olive oil', 'nan'}), confidence=0.20574162679425836, lift=3.1303609383037156), OrderedStatistic(items_base=frozenset({'frozen vegetables', 'spaghetti', 'nan'}), items_add=frozenset({'olive oil'}), confidence=0.20574162679425836, lift=3.1240241752707125)]),\n",
              " RelationRecord(items=frozenset({'frozen vegetables', 'spaghetti', 'nan', 'shrimp'}), support=0.005999200106652446, ordered_statistics=[OrderedStatistic(items_base=frozenset({'frozen vegetables', 'spaghetti'}), items_add=frozenset({'nan', 'shrimp'}), confidence=0.21531100478468898, lift=3.0187810222242093), OrderedStatistic(items_base=frozenset({'frozen vegetables', 'spaghetti', 'nan'}), items_add=frozenset({'shrimp'}), confidence=0.21531100478468898, lift=3.0131489680782684)]),\n",
              " RelationRecord(items=frozenset({'tomatoes', 'frozen vegetables', 'nan', 'shrimp'}), support=0.003999466737768298, ordered_statistics=[OrderedStatistic(items_base=frozenset({'frozen vegetables', 'shrimp'}), items_add=frozenset({'tomatoes', 'nan'}), confidence=0.24000000000000002, lift=3.5092397660818717), OrderedStatistic(items_base=frozenset({'tomatoes', 'frozen vegetables'}), items_add=frozenset({'nan', 'shrimp'}), confidence=0.2479338842975207, lift=3.4761720861975753), OrderedStatistic(items_base=frozenset({'tomatoes', 'shrimp'}), items_add=frozenset({'frozen vegetables', 'nan'}), confidence=0.35714285714285715, lift=3.7467532467532467), OrderedStatistic(items_base=frozenset({'frozen vegetables', 'nan', 'shrimp'}), items_add=frozenset({'tomatoes'}), confidence=0.24000000000000002, lift=3.5092397660818717), OrderedStatistic(items_base=frozenset({'tomatoes', 'frozen vegetables', 'nan'}), items_add=frozenset({'shrimp'}), confidence=0.2479338842975207, lift=3.4696866905143704), OrderedStatistic(items_base=frozenset({'tomatoes', 'nan', 'shrimp'}), items_add=frozenset({'frozen vegetables'}), confidence=0.35714285714285715, lift=3.7467532467532467)]),\n",
              " RelationRecord(items=frozenset({'tomatoes', 'frozen vegetables', 'spaghetti', 'nan'}), support=0.006665777896280496, ordered_statistics=[OrderedStatistic(items_base=frozenset({'frozen vegetables', 'spaghetti'}), items_add=frozenset({'tomatoes', 'nan'}), confidence=0.23923444976076558, lift=3.4980460188216425), OrderedStatistic(items_base=frozenset({'tomatoes', 'spaghetti'}), items_add=frozenset({'frozen vegetables', 'nan'}), confidence=0.3184713375796179, lift=3.341053850607991), OrderedStatistic(items_base=frozenset({'frozen vegetables', 'spaghetti', 'nan'}), items_add=frozenset({'tomatoes'}), confidence=0.23923444976076558, lift=3.4980460188216425), OrderedStatistic(items_base=frozenset({'tomatoes', 'spaghetti', 'nan'}), items_add=frozenset({'frozen vegetables'}), confidence=0.3184713375796179, lift=3.341053850607991)]),\n",
              " RelationRecord(items=frozenset({'ground beef', 'grated cheese', 'nan', 'spaghetti'}), support=0.005332622317024397, ordered_statistics=[OrderedStatistic(items_base=frozenset({'spaghetti', 'grated cheese'}), items_add=frozenset({'ground beef', 'nan'}), confidence=0.3225806451612903, lift=3.283144395325426), OrderedStatistic(items_base=frozenset({'spaghetti', 'grated cheese', 'nan'}), items_add=frozenset({'ground beef'}), confidence=0.3225806451612903, lift=3.283144395325426)]),\n",
              " RelationRecord(items=frozenset({'tomatoes', 'nan', 'ground beef', 'green tea'}), support=0.0030662578322890282, ordered_statistics=[OrderedStatistic(items_base=frozenset({'ground beef', 'green tea'}), items_add=frozenset({'tomatoes', 'nan'}), confidence=0.2072072072072072, lift=3.0297490472929067), OrderedStatistic(items_base=frozenset({'nan', 'ground beef', 'green tea'}), items_add=frozenset({'tomatoes'}), confidence=0.2072072072072072, lift=3.0297490472929067)]),\n",
              " RelationRecord(items=frozenset({'herb & pepper', 'milk', 'ground beef', 'nan'}), support=0.0035995200639914677, ordered_statistics=[OrderedStatistic(items_base=frozenset({'herb & pepper', 'milk'}), items_add=frozenset({'ground beef', 'nan'}), confidence=0.3913043478260869, lift=3.9825968969382335), OrderedStatistic(items_base=frozenset({'herb & pepper', 'milk', 'nan'}), items_add=frozenset({'ground beef'}), confidence=0.3913043478260869, lift=3.9825968969382335)]),\n",
              " RelationRecord(items=frozenset({'herb & pepper', 'mineral water', 'ground beef', 'nan'}), support=0.006665777896280496, ordered_statistics=[OrderedStatistic(items_base=frozenset({'herb & pepper', 'mineral water'}), items_add=frozenset({'ground beef', 'nan'}), confidence=0.39062500000000006, lift=3.975682666214383), OrderedStatistic(items_base=frozenset({'herb & pepper', 'mineral water', 'nan'}), items_add=frozenset({'ground beef'}), confidence=0.39062500000000006, lift=3.975682666214383)]),\n",
              " RelationRecord(items=frozenset({'herb & pepper', 'spaghetti', 'ground beef', 'nan'}), support=0.006399146780429276, ordered_statistics=[OrderedStatistic(items_base=frozenset({'herb & pepper', 'spaghetti'}), items_add=frozenset({'ground beef', 'nan'}), confidence=0.3934426229508197, lift=4.004359721511667), OrderedStatistic(items_base=frozenset({'herb & pepper', 'spaghetti', 'nan'}), items_add=frozenset({'ground beef'}), confidence=0.3934426229508197, lift=4.004359721511667)]),\n",
              " RelationRecord(items=frozenset({'mineral water', 'milk', 'ground beef', 'spaghetti'}), support=0.004399413411545127, ordered_statistics=[OrderedStatistic(items_base=frozenset({'milk', 'ground beef'}), items_add=frozenset({'spaghetti', 'mineral water'}), confidence=0.2, lift=3.3486607142857148)]),\n",
              " RelationRecord(items=frozenset({'olive oil', 'milk', 'ground beef', 'nan'}), support=0.004932675643247567, ordered_statistics=[OrderedStatistic(items_base=frozenset({'milk', 'ground beef'}), items_add=frozenset({'olive oil', 'nan'}), confidence=0.22424242424242427, lift=3.4118507591124225), OrderedStatistic(items_base=frozenset({'milk', 'ground beef', 'nan'}), items_add=frozenset({'olive oil'}), confidence=0.22424242424242427, lift=3.40494417862839)]),\n",
              " RelationRecord(items=frozenset({'soup', 'milk', 'ground beef', 'nan'}), support=0.003999466737768298, ordered_statistics=[OrderedStatistic(items_base=frozenset({'ground beef', 'soup'}), items_add=frozenset({'milk', 'nan'}), confidence=0.4109589041095891, lift=3.1714019956029094), OrderedStatistic(items_base=frozenset({'soup', 'ground beef', 'nan'}), items_add=frozenset({'milk'}), confidence=0.4109589041095891, lift=3.1714019956029094)]),\n",
              " RelationRecord(items=frozenset({'olive oil', 'mineral water', 'spaghetti', 'ground beef'}), support=0.0030662578322890282, ordered_statistics=[OrderedStatistic(items_base=frozenset({'olive oil', 'ground beef'}), items_add=frozenset({'spaghetti', 'mineral water'}), confidence=0.2169811320754717, lift=3.63298096361186), OrderedStatistic(items_base=frozenset({'olive oil', 'spaghetti', 'mineral water'}), items_add=frozenset({'ground beef'}), confidence=0.2987012987012987, lift=3.0401064335935435)]),\n",
              " RelationRecord(items=frozenset({'mineral water', 'spaghetti', 'ground beef', 'pancakes'}), support=0.0030662578322890282, ordered_statistics=[OrderedStatistic(items_base=frozenset({'ground beef', 'pancakes'}), items_add=frozenset({'spaghetti', 'mineral water'}), confidence=0.21100917431192662, lift=3.532990661861075)]),\n",
              " RelationRecord(items=frozenset({'tomatoes', 'mineral water', 'spaghetti', 'ground beef'}), support=0.0030662578322890282, ordered_statistics=[OrderedStatistic(items_base=frozenset({'tomatoes', 'ground beef'}), items_add=frozenset({'spaghetti', 'mineral water'}), confidence=0.26136363636363635, lift=4.3760907061688314), OrderedStatistic(items_base=frozenset({'tomatoes', 'mineral water', 'ground beef'}), items_add=frozenset({'spaghetti'}), confidence=0.5609756097560976, lift=3.221958689724723), OrderedStatistic(items_base=frozenset({'tomatoes', 'spaghetti', 'mineral water'}), items_add=frozenset({'ground beef'}), confidence=0.32857142857142857, lift=3.344117076952898)]),\n",
              " RelationRecord(items=frozenset({'pepper', 'spaghetti', 'ground beef', 'nan'}), support=0.003332888948140248, ordered_statistics=[OrderedStatistic(items_base=frozenset({'pepper', 'spaghetti'}), items_add=frozenset({'ground beef', 'nan'}), confidence=0.33783783783783783, lift=3.4384282518610876), OrderedStatistic(items_base=frozenset({'pepper', 'spaghetti', 'nan'}), items_add=frozenset({'ground beef'}), confidence=0.33783783783783783, lift=3.4384282518610876)]),\n",
              " RelationRecord(items=frozenset({'spaghetti', 'ground beef', 'nan', 'shrimp'}), support=0.005999200106652446, ordered_statistics=[OrderedStatistic(items_base=frozenset({'ground beef', 'shrimp'}), items_add=frozenset({'spaghetti', 'nan'}), confidence=0.5232558139534884, lift=3.005315360233627), OrderedStatistic(items_base=frozenset({'ground beef', 'nan', 'shrimp'}), items_add=frozenset({'spaghetti'}), confidence=0.5232558139534884, lift=3.005315360233627)]),\n",
              " RelationRecord(items=frozenset({'tomato sauce', 'spaghetti', 'ground beef', 'nan'}), support=0.0030662578322890282, ordered_statistics=[OrderedStatistic(items_base=frozenset({'tomato sauce'}), items_add=frozenset({'ground beef', 'spaghetti', 'nan'}), confidence=0.2169811320754717, lift=5.535970992170453), OrderedStatistic(items_base=frozenset({'tomato sauce', 'ground beef'}), items_add=frozenset({'spaghetti', 'nan'}), confidence=0.5750000000000001, lift=3.3025076569678413), OrderedStatistic(items_base=frozenset({'tomato sauce', 'nan'}), items_add=frozenset({'ground beef', 'spaghetti'}), confidence=0.2169811320754717, lift=5.535970992170453), OrderedStatistic(items_base=frozenset({'tomato sauce', 'spaghetti'}), items_add=frozenset({'ground beef', 'nan'}), confidence=0.4893617021276596, lift=4.980599901844742), OrderedStatistic(items_base=frozenset({'tomato sauce', 'ground beef', 'nan'}), items_add=frozenset({'spaghetti'}), confidence=0.5750000000000001, lift=3.3025076569678413), OrderedStatistic(items_base=frozenset({'tomato sauce', 'spaghetti', 'nan'}), items_add=frozenset({'ground beef'}), confidence=0.4893617021276596, lift=4.980599901844742)]),\n",
              " RelationRecord(items=frozenset({'light cream', 'spaghetti', 'mineral water', 'nan'}), support=0.003199573390214638, ordered_statistics=[OrderedStatistic(items_base=frozenset({'light cream'}), items_add=frozenset({'mineral water', 'spaghetti', 'nan'}), confidence=0.20512820512820515, lift=3.4345238095238098), OrderedStatistic(items_base=frozenset({'light cream', 'nan'}), items_add=frozenset({'mineral water', 'spaghetti'}), confidence=0.20512820512820515, lift=3.4345238095238098)]),\n",
              " RelationRecord(items=frozenset({'olive oil', 'mineral water', 'spaghetti', 'milk'}), support=0.003332888948140248, ordered_statistics=[OrderedStatistic(items_base=frozenset({'mineral water', 'spaghetti', 'milk'}), items_add=frozenset({'olive oil'}), confidence=0.211864406779661, lift=3.216993755575379)]),\n",
              " RelationRecord(items=frozenset({'tomatoes', 'mineral water', 'spaghetti', 'milk'}), support=0.003332888948140248, ordered_statistics=[OrderedStatistic(items_base=frozenset({'tomatoes', 'milk'}), items_add=frozenset({'spaghetti', 'mineral water'}), confidence=0.2380952380952381, lift=3.9865008503401365), OrderedStatistic(items_base=frozenset({'mineral water', 'spaghetti', 'milk'}), items_add=frozenset({'tomatoes'}), confidence=0.211864406779661, lift=3.0978458387022165)]),\n",
              " RelationRecord(items=frozenset({'olive oil', 'milk', 'nan', 'shrimp'}), support=0.003199573390214638, ordered_statistics=[OrderedStatistic(items_base=frozenset({'olive oil', 'shrimp'}), items_add=frozenset({'milk', 'nan'}), confidence=0.3934426229508197, lift=3.0362274843149164), OrderedStatistic(items_base=frozenset({'olive oil', 'nan', 'shrimp'}), items_add=frozenset({'milk'}), confidence=0.39999999999999997, lift=3.0868312757201646)]),\n",
              " RelationRecord(items=frozenset({'olive oil', 'soup', 'milk', 'nan'}), support=0.0035995200639914677, ordered_statistics=[OrderedStatistic(items_base=frozenset({'olive oil', 'milk'}), items_add=frozenset({'nan', 'soup'}), confidence=0.2109375, lift=4.174781497361478), OrderedStatistic(items_base=frozenset({'milk', 'soup'}), items_add=frozenset({'olive oil', 'nan'}), confidence=0.23684210526315788, lift=3.603555033628696), OrderedStatistic(items_base=frozenset({'olive oil', 'soup'}), items_add=frozenset({'milk', 'nan'}), confidence=0.4029850746268656, lift=3.1098673300165833), OrderedStatistic(items_base=frozenset({'olive oil', 'milk', 'nan'}), items_add=frozenset({'soup'}), confidence=0.2109375, lift=4.174781497361478), OrderedStatistic(items_base=frozenset({'soup', 'milk', 'nan'}), items_add=frozenset({'olive oil'}), confidence=0.23684210526315788, lift=3.5962603878116344), OrderedStatistic(items_base=frozenset({'olive oil', 'soup', 'nan'}), items_add=frozenset({'milk'}), confidence=0.4029850746268656, lift=3.1098673300165833)]),\n",
              " RelationRecord(items=frozenset({'olive oil', 'spaghetti', 'milk', 'nan'}), support=0.007199040127982935, ordered_statistics=[OrderedStatistic(items_base=frozenset({'spaghetti', 'milk'}), items_add=frozenset({'olive oil', 'nan'}), confidence=0.20300751879699247, lift=3.088761457396025), OrderedStatistic(items_base=frozenset({'spaghetti', 'milk', 'nan'}), items_add=frozenset({'olive oil'}), confidence=0.20300751879699247, lift=3.0825089038385434)]),\n",
              " RelationRecord(items=frozenset({'tomatoes', 'soup', 'milk', 'nan'}), support=0.0030662578322890282, ordered_statistics=[OrderedStatistic(items_base=frozenset({'tomatoes', 'milk'}), items_add=frozenset({'nan', 'soup'}), confidence=0.21904761904761905, lift=4.335293378565146), OrderedStatistic(items_base=frozenset({'tomatoes', 'soup'}), items_add=frozenset({'milk', 'nan'}), confidence=0.44230769230769235, lift=3.4133230452674903), OrderedStatistic(items_base=frozenset({'tomatoes', 'milk', 'nan'}), items_add=frozenset({'soup'}), confidence=0.21904761904761905, lift=4.335293378565146), OrderedStatistic(items_base=frozenset({'tomatoes', 'soup', 'nan'}), items_add=frozenset({'milk'}), confidence=0.44230769230769235, lift=3.4133230452674903)]),\n",
              " RelationRecord(items=frozenset({'spaghetti', 'milk', 'nan', 'whole wheat pasta'}), support=0.003999466737768298, ordered_statistics=[OrderedStatistic(items_base=frozenset({'spaghetti', 'whole wheat pasta'}), items_add=frozenset({'milk', 'nan'}), confidence=0.4545454545454546, lift=3.5077628133183696), OrderedStatistic(items_base=frozenset({'spaghetti', 'nan', 'whole wheat pasta'}), items_add=frozenset({'milk'}), confidence=0.4545454545454546, lift=3.5077628133183696)]),\n",
              " RelationRecord(items=frozenset({'olive oil', 'soup', 'mineral water', 'nan'}), support=0.005199306759098787, ordered_statistics=[OrderedStatistic(items_base=frozenset({'mineral water', 'soup'}), items_add=frozenset({'olive oil', 'nan'}), confidence=0.22543352601156072, lift=3.429973384609973), OrderedStatistic(items_base=frozenset({'soup', 'mineral water', 'nan'}), items_add=frozenset({'olive oil'}), confidence=0.22543352601156072, lift=3.4230301186492245)]),\n",
              " RelationRecord(items=frozenset({'olive oil', 'mineral water', 'nan', 'whole wheat pasta'}), support=0.0038661511798426876, ordered_statistics=[OrderedStatistic(items_base=frozenset({'mineral water', 'whole wheat pasta'}), items_add=frozenset({'olive oil', 'nan'}), confidence=0.4027777777777778, lift=6.128267973856209), OrderedStatistic(items_base=frozenset({'mineral water', 'nan', 'whole wheat pasta'}), items_add=frozenset({'olive oil'}), confidence=0.4027777777777778, lift=6.115862573099416)]),\n",
              " RelationRecord(items=frozenset({'olive oil', 'spaghetti', 'nan', 'pancakes'}), support=0.005065991201173177, ordered_statistics=[OrderedStatistic(items_base=frozenset({'spaghetti', 'pancakes'}), items_add=frozenset({'olive oil', 'nan'}), confidence=0.20105820105820105, lift=3.0591025682303568), OrderedStatistic(items_base=frozenset({'spaghetti', 'nan', 'pancakes'}), items_add=frozenset({'olive oil'}), confidence=0.20105820105820105, lift=3.0529100529100526)]),\n",
              " RelationRecord(items=frozenset({'olive oil', 'tomatoes', 'spaghetti', 'nan'}), support=0.004399413411545127, ordered_statistics=[OrderedStatistic(items_base=frozenset({'olive oil', 'tomatoes'}), items_add=frozenset({'spaghetti', 'nan'}), confidence=0.6111111111111112, lift=3.5099115194827295), OrderedStatistic(items_base=frozenset({'tomatoes', 'spaghetti'}), items_add=frozenset({'olive oil', 'nan'}), confidence=0.21019108280254778, lift=3.1980594565961677), OrderedStatistic(items_base=frozenset({'olive oil', 'tomatoes', 'nan'}), items_add=frozenset({'spaghetti'}), confidence=0.6111111111111112, lift=3.5099115194827295), OrderedStatistic(items_base=frozenset({'tomatoes', 'spaghetti', 'nan'}), items_add=frozenset({'olive oil'}), confidence=0.21019108280254778, lift=3.19158565202816)]),\n",
              " RelationRecord(items=frozenset({'tomatoes', 'whole wheat rice', 'spaghetti', 'nan'}), support=0.0030662578322890282, ordered_statistics=[OrderedStatistic(items_base=frozenset({'whole wheat rice', 'spaghetti'}), items_add=frozenset({'tomatoes', 'nan'}), confidence=0.2169811320754717, lift=3.1726617382029496), OrderedStatistic(items_base=frozenset({'whole wheat rice', 'spaghetti', 'nan'}), items_add=frozenset({'tomatoes'}), confidence=0.2169811320754717, lift=3.1726617382029496)]),\n",
              " RelationRecord(items=frozenset({'ground beef', 'chocolate', 'nan', 'mineral water', 'eggs'}), support=0.003999466737768298, ordered_statistics=[OrderedStatistic(items_base=frozenset({'eggs', 'ground beef'}), items_add=frozenset({'chocolate', 'mineral water', 'nan'}), confidence=0.20000000000000004, lift=3.7979746835443047), OrderedStatistic(items_base=frozenset({'chocolate', 'eggs', 'mineral water'}), items_add=frozenset({'ground beef', 'nan'}), confidence=0.29702970297029707, lift=3.023093354111531), OrderedStatistic(items_base=frozenset({'eggs', 'ground beef', 'nan'}), items_add=frozenset({'chocolate', 'mineral water'}), confidence=0.20000000000000004, lift=3.7979746835443047), OrderedStatistic(items_base=frozenset({'chocolate', 'eggs', 'mineral water', 'nan'}), items_add=frozenset({'ground beef'}), confidence=0.29702970297029707, lift=3.023093354111531)]),\n",
              " RelationRecord(items=frozenset({'frozen vegetables', 'ground beef', 'chocolate', 'nan', 'mineral water'}), support=0.003332888948140248, ordered_statistics=[OrderedStatistic(items_base=frozenset({'chocolate', 'frozen vegetables', 'mineral water'}), items_add=frozenset({'ground beef', 'nan'}), confidence=0.34246575342465757, lift=3.4855300087358976), OrderedStatistic(items_base=frozenset({'chocolate', 'mineral water', 'ground beef'}), items_add=frozenset({'frozen vegetables', 'nan'}), confidence=0.30487804878048785, lift=3.1984478935698455), OrderedStatistic(items_base=frozenset({'chocolate', 'frozen vegetables', 'mineral water', 'nan'}), items_add=frozenset({'ground beef'}), confidence=0.34246575342465757, lift=3.4855300087358976), OrderedStatistic(items_base=frozenset({'chocolate', 'mineral water', 'ground beef', 'nan'}), items_add=frozenset({'frozen vegetables'}), confidence=0.30487804878048785, lift=3.1984478935698455)]),\n",
              " RelationRecord(items=frozenset({'frozen vegetables', 'spaghetti', 'ground beef', 'chocolate', 'nan'}), support=0.0030662578322890282, ordered_statistics=[OrderedStatistic(items_base=frozenset({'chocolate', 'frozen vegetables', 'ground beef'}), items_add=frozenset({'spaghetti', 'nan'}), confidence=0.5348837209302326, lift=3.0721001460165964), OrderedStatistic(items_base=frozenset({'chocolate', 'frozen vegetables', 'spaghetti'}), items_add=frozenset({'ground beef', 'nan'}), confidence=0.3898305084745763, lift=3.967596531978015), OrderedStatistic(items_base=frozenset({'chocolate', 'spaghetti', 'ground beef'}), items_add=frozenset({'frozen vegetables', 'nan'}), confidence=0.33333333333333337, lift=3.4969696969696975), OrderedStatistic(items_base=frozenset({'chocolate', 'frozen vegetables', 'ground beef', 'nan'}), items_add=frozenset({'spaghetti'}), confidence=0.5348837209302326, lift=3.0721001460165964), OrderedStatistic(items_base=frozenset({'chocolate', 'frozen vegetables', 'spaghetti', 'nan'}), items_add=frozenset({'ground beef'}), confidence=0.3898305084745763, lift=3.967596531978015), OrderedStatistic(items_base=frozenset({'chocolate', 'spaghetti', 'ground beef', 'nan'}), items_add=frozenset({'frozen vegetables'}), confidence=0.33333333333333337, lift=3.4969696969696975)]),\n",
              " RelationRecord(items=frozenset({'frozen vegetables', 'chocolate', 'nan', 'mineral water', 'milk'}), support=0.003999466737768298, ordered_statistics=[OrderedStatistic(items_base=frozenset({'chocolate', 'frozen vegetables', 'mineral water'}), items_add=frozenset({'milk', 'nan'}), confidence=0.4109589041095891, lift=3.1714019956029094), OrderedStatistic(items_base=frozenset({'chocolate', 'frozen vegetables', 'mineral water', 'nan'}), items_add=frozenset({'milk'}), confidence=0.4109589041095891, lift=3.1714019956029094)]),\n",
              " RelationRecord(items=frozenset({'frozen vegetables', 'spaghetti', 'chocolate', 'nan', 'milk'}), support=0.0034662045060658577, ordered_statistics=[OrderedStatistic(items_base=frozenset({'chocolate', 'frozen vegetables', 'spaghetti'}), items_add=frozenset({'milk', 'nan'}), confidence=0.44067796610169485, lift=3.4007463207086555), OrderedStatistic(items_base=frozenset({'chocolate', 'spaghetti', 'milk'}), items_add=frozenset({'frozen vegetables', 'nan'}), confidence=0.3170731707317073, lift=3.3263858093126384), OrderedStatistic(items_base=frozenset({'chocolate', 'frozen vegetables', 'spaghetti', 'nan'}), items_add=frozenset({'milk'}), confidence=0.44067796610169485, lift=3.4007463207086555), OrderedStatistic(items_base=frozenset({'chocolate', 'spaghetti', 'milk', 'nan'}), items_add=frozenset({'frozen vegetables'}), confidence=0.3170731707317073, lift=3.3263858093126384)]),\n",
              " RelationRecord(items=frozenset({'frozen vegetables', 'chocolate', 'nan', 'shrimp', 'mineral water'}), support=0.003199573390214638, ordered_statistics=[OrderedStatistic(items_base=frozenset({'chocolate', 'frozen vegetables', 'mineral water'}), items_add=frozenset({'nan', 'shrimp'}), confidence=0.32876712328767127, lift=4.609499423889387), OrderedStatistic(items_base=frozenset({'chocolate', 'mineral water', 'shrimp'}), items_add=frozenset({'frozen vegetables', 'nan'}), confidence=0.4210526315789474, lift=4.417224880382776), OrderedStatistic(items_base=frozenset({'chocolate', 'frozen vegetables', 'mineral water', 'nan'}), items_add=frozenset({'shrimp'}), confidence=0.32876712328767127, lift=4.600899611531385), OrderedStatistic(items_base=frozenset({'chocolate', 'mineral water', 'nan', 'shrimp'}), items_add=frozenset({'frozen vegetables'}), confidence=0.4210526315789474, lift=4.417224880382776)]),\n",
              " RelationRecord(items=frozenset({'olive oil', 'spaghetti', 'chocolate', 'nan', 'mineral water'}), support=0.0038661511798426876, ordered_statistics=[OrderedStatistic(items_base=frozenset({'olive oil', 'chocolate'}), items_add=frozenset({'mineral water', 'spaghetti', 'nan'}), confidence=0.23577235772357724, lift=3.947608159117306), OrderedStatistic(items_base=frozenset({'chocolate', 'spaghetti', 'mineral water'}), items_add=frozenset({'olive oil', 'nan'}), confidence=0.2436974789915966, lift=3.707859614434008), OrderedStatistic(items_base=frozenset({'olive oil', 'chocolate', 'nan'}), items_add=frozenset({'mineral water', 'spaghetti'}), confidence=0.23577235772357724, lift=3.947608159117306), OrderedStatistic(items_base=frozenset({'chocolate', 'spaghetti', 'mineral water', 'nan'}), items_add=frozenset({'olive oil'}), confidence=0.2436974789915966, lift=3.700353825740822)]),\n",
              " RelationRecord(items=frozenset({'spaghetti', 'chocolate', 'nan', 'shrimp', 'mineral water'}), support=0.0034662045060658577, ordered_statistics=[OrderedStatistic(items_base=frozenset({'chocolate', 'spaghetti', 'mineral water'}), items_add=frozenset({'nan', 'shrimp'}), confidence=0.21848739495798317, lift=3.063315793607162), OrderedStatistic(items_base=frozenset({'chocolate', 'spaghetti', 'mineral water', 'nan'}), items_add=frozenset({'shrimp'}), confidence=0.21848739495798317, lift=3.0576006522011783)]),\n",
              " RelationRecord(items=frozenset({'frozen vegetables', 'nan', 'mineral water', 'eggs', 'milk'}), support=0.0037328356219170776, ordered_statistics=[OrderedStatistic(items_base=frozenset({'frozen vegetables', 'eggs', 'mineral water'}), items_add=frozenset({'milk', 'nan'}), confidence=0.411764705882353, lift=3.177620430888405), OrderedStatistic(items_base=frozenset({'frozen vegetables', 'eggs', 'mineral water', 'nan'}), items_add=frozenset({'milk'}), confidence=0.411764705882353, lift=3.177620430888405)]),\n",
              " RelationRecord(items=frozenset({'spaghetti', 'nan', 'mineral water', 'frozen smoothie', 'milk'}), support=0.003199573390214638, ordered_statistics=[OrderedStatistic(items_base=frozenset({'frozen smoothie', 'milk'}), items_add=frozenset({'mineral water', 'spaghetti', 'nan'}), confidence=0.22429906542056074, lift=3.7555073431241657), OrderedStatistic(items_base=frozenset({'frozen smoothie', 'spaghetti'}), items_add=frozenset({'milk', 'mineral water', 'nan'}), confidence=0.20512820512820515, lift=4.274074074074075), OrderedStatistic(items_base=frozenset({'frozen smoothie', 'milk', 'nan'}), items_add=frozenset({'mineral water', 'spaghetti'}), confidence=0.22429906542056074, lift=3.7555073431241657), OrderedStatistic(items_base=frozenset({'frozen smoothie', 'mineral water', 'spaghetti'}), items_add=frozenset({'milk', 'nan'}), confidence=0.4705882352941177, lift=3.631566206729606), OrderedStatistic(items_base=frozenset({'frozen smoothie', 'spaghetti', 'nan'}), items_add=frozenset({'milk', 'mineral water'}), confidence=0.20512820512820515, lift=4.274074074074075), OrderedStatistic(items_base=frozenset({'mineral water', 'spaghetti', 'milk'}), items_add=frozenset({'frozen smoothie', 'nan'}), confidence=0.2033898305084746, lift=3.218622613173139), OrderedStatistic(items_base=frozenset({'frozen smoothie', 'mineral water', 'nan', 'spaghetti'}), items_add=frozenset({'milk'}), confidence=0.4705882352941177, lift=3.631566206729606), OrderedStatistic(items_base=frozenset({'mineral water', 'spaghetti', 'milk', 'nan'}), items_add=frozenset({'frozen smoothie'}), confidence=0.2033898305084746, lift=3.211846565566459)]),\n",
              " RelationRecord(items=frozenset({'frozen vegetables', 'ground beef', 'nan', 'mineral water', 'milk'}), support=0.0037328356219170776, ordered_statistics=[OrderedStatistic(items_base=frozenset({'frozen vegetables', 'ground beef'}), items_add=frozenset({'milk', 'mineral water', 'nan'}), confidence=0.22047244094488186, lift=4.593788276465442), OrderedStatistic(items_base=frozenset({'frozen vegetables', 'mineral water', 'ground beef'}), items_add=frozenset({'milk', 'nan'}), confidence=0.40579710144927533, lift=3.1315679608755294), OrderedStatistic(items_base=frozenset({'frozen vegetables', 'ground beef', 'nan'}), items_add=frozenset({'milk', 'mineral water'}), confidence=0.22047244094488186, lift=4.593788276465442), OrderedStatistic(items_base=frozenset({'frozen vegetables', 'mineral water', 'milk'}), items_add=frozenset({'ground beef', 'nan'}), confidence=0.3373493975903614, lift=3.4334570302921317), OrderedStatistic(items_base=frozenset({'mineral water', 'milk', 'ground beef'}), items_add=frozenset({'frozen vegetables', 'nan'}), confidence=0.3373493975903614, lift=3.539101861993428), OrderedStatistic(items_base=frozenset({'frozen vegetables', 'mineral water', 'ground beef', 'nan'}), items_add=frozenset({'milk'}), confidence=0.40579710144927533, lift=3.1315679608755294), OrderedStatistic(items_base=frozenset({'frozen vegetables', 'mineral water', 'milk', 'nan'}), items_add=frozenset({'ground beef'}), confidence=0.3373493975903614, lift=3.4334570302921317), OrderedStatistic(items_base=frozenset({'mineral water', 'milk', 'ground beef', 'nan'}), items_add=frozenset({'frozen vegetables'}), confidence=0.3373493975903614, lift=3.539101861993428)]),\n",
              " RelationRecord(items=frozenset({'frozen vegetables', 'ground beef', 'spaghetti', 'nan', 'milk'}), support=0.0030662578322890282, ordered_statistics=[OrderedStatistic(items_base=frozenset({'frozen vegetables', 'milk', 'ground beef'}), items_add=frozenset({'spaghetti', 'nan'}), confidence=0.5348837209302326, lift=3.0721001460165964), OrderedStatistic(items_base=frozenset({'frozen vegetables', 'spaghetti', 'milk'}), items_add=frozenset({'ground beef', 'nan'}), confidence=0.3709677419354839, lift=3.7756160546242397), OrderedStatistic(items_base=frozenset({'milk', 'ground beef', 'spaghetti'}), items_add=frozenset({'frozen vegetables', 'nan'}), confidence=0.3150684931506849, lift=3.305354919053549), OrderedStatistic(items_base=frozenset({'frozen vegetables', 'milk', 'ground beef', 'nan'}), items_add=frozenset({'spaghetti'}), confidence=0.5348837209302326, lift=3.0721001460165964), OrderedStatistic(items_base=frozenset({'frozen vegetables', 'spaghetti', 'milk', 'nan'}), items_add=frozenset({'ground beef'}), confidence=0.3709677419354839, lift=3.7756160546242397), OrderedStatistic(items_base=frozenset({'milk', 'ground beef', 'nan', 'spaghetti'}), items_add=frozenset({'frozen vegetables'}), confidence=0.3150684931506849, lift=3.305354919053549)]),\n",
              " RelationRecord(items=frozenset({'frozen vegetables', 'ground beef', 'spaghetti', 'nan', 'mineral water'}), support=0.004399413411545127, ordered_statistics=[OrderedStatistic(items_base=frozenset({'frozen vegetables', 'ground beef'}), items_add=frozenset({'mineral water', 'spaghetti', 'nan'}), confidence=0.25984251968503935, lift=4.350622187851519), OrderedStatistic(items_base=frozenset({'frozen vegetables', 'ground beef', 'nan'}), items_add=frozenset({'mineral water', 'spaghetti'}), confidence=0.25984251968503935, lift=4.350622187851519), OrderedStatistic(items_base=frozenset({'frozen vegetables', 'spaghetti', 'mineral water'}), items_add=frozenset({'ground beef', 'nan'}), confidence=0.3666666666666667, lift=3.7318407960199007), OrderedStatistic(items_base=frozenset({'frozen vegetables', 'spaghetti', 'mineral water', 'nan'}), items_add=frozenset({'ground beef'}), confidence=0.3666666666666667, lift=3.7318407960199007)]),\n",
              " RelationRecord(items=frozenset({'olive oil', 'frozen vegetables', 'nan', 'mineral water', 'milk'}), support=0.003332888948140248, ordered_statistics=[OrderedStatistic(items_base=frozenset({'olive oil', 'frozen vegetables'}), items_add=frozenset({'milk', 'mineral water', 'nan'}), confidence=0.29411764705882354, lift=6.12826797385621), OrderedStatistic(items_base=frozenset({'frozen vegetables', 'mineral water', 'milk'}), items_add=frozenset({'olive oil', 'nan'}), confidence=0.30120481927710846, lift=4.582834380116816), OrderedStatistic(items_base=frozenset({'olive oil', 'frozen vegetables', 'mineral water'}), items_add=frozenset({'milk', 'nan'}), confidence=0.5102040816326531, lift=3.937284790459394), OrderedStatistic(items_base=frozenset({'olive oil', 'frozen vegetables', 'nan'}), items_add=frozenset({'milk', 'mineral water'}), confidence=0.29411764705882354, lift=6.12826797385621), OrderedStatistic(items_base=frozenset({'olive oil', 'mineral water', 'milk'}), items_add=frozenset({'frozen vegetables', 'nan'}), confidence=0.39062500000000006, lift=4.098011363636364), OrderedStatistic(items_base=frozenset({'frozen vegetables', 'mineral water', 'milk', 'nan'}), items_add=frozenset({'olive oil'}), confidence=0.30120481927710846, lift=4.573557387444516), OrderedStatistic(items_base=frozenset({'olive oil', 'frozen vegetables', 'mineral water', 'nan'}), items_add=frozenset({'milk'}), confidence=0.5102040816326531, lift=3.937284790459394), OrderedStatistic(items_base=frozenset({'olive oil', 'mineral water', 'milk', 'nan'}), items_add=frozenset({'frozen vegetables'}), confidence=0.39062500000000006, lift=4.098011363636364)]),\n",
              " RelationRecord(items=frozenset({'frozen vegetables', 'nan', 'mineral water', 'soup', 'milk'}), support=0.0030662578322890282, ordered_statistics=[OrderedStatistic(items_base=frozenset({'frozen vegetables', 'soup'}), items_add=frozenset({'milk', 'mineral water', 'nan'}), confidence=0.3833333333333333, lift=7.987175925925926), OrderedStatistic(items_base=frozenset({'milk', 'soup'}), items_add=frozenset({'frozen vegetables', 'mineral water', 'nan'}), confidence=0.20175438596491227, lift=5.646864362398533), OrderedStatistic(items_base=frozenset({'frozen vegetables', 'mineral water', 'milk'}), items_add=frozenset({'soup', 'nan'}), confidence=0.27710843373493976, lift=5.484407286136631), OrderedStatistic(items_base=frozenset({'frozen vegetables', 'milk', 'soup'}), items_add=frozenset({'mineral water', 'nan'}), confidence=0.7666666666666666, lift=3.218112292482745), OrderedStatistic(items_base=frozenset({'frozen vegetables', 'mineral water', 'soup'}), items_add=frozenset({'milk', 'nan'}), confidence=0.6052631578947368, lift=4.670863114576565), OrderedStatistic(items_base=frozenset({'soup', 'frozen vegetables', 'nan'}), items_add=frozenset({'milk', 'mineral water'}), confidence=0.3833333333333333, lift=7.987175925925926), OrderedStatistic(items_base=frozenset({'mineral water', 'milk', 'soup'}), items_add=frozenset({'frozen vegetables', 'nan'}), confidence=0.35937500000000006, lift=3.7701704545454553), OrderedStatistic(items_base=frozenset({'soup', 'milk', 'nan'}), items_add=frozenset({'frozen vegetables', 'mineral water'}), confidence=0.20175438596491227, lift=5.646864362398533), OrderedStatistic(items_base=frozenset({'frozen vegetables', 'mineral water', 'milk', 'nan'}), items_add=frozenset({'soup'}), confidence=0.27710843373493976, lift=5.484407286136631), OrderedStatistic(items_base=frozenset({'soup', 'frozen vegetables', 'milk', 'nan'}), items_add=frozenset({'mineral water'}), confidence=0.7666666666666666, lift=3.21631245339299), OrderedStatistic(items_base=frozenset({'soup', 'frozen vegetables', 'mineral water', 'nan'}), items_add=frozenset({'milk'}), confidence=0.6052631578947368, lift=4.670863114576565), OrderedStatistic(items_base=frozenset({'soup', 'mineral water', 'milk', 'nan'}), items_add=frozenset({'frozen vegetables'}), confidence=0.35937500000000006, lift=3.7701704545454553)]),\n",
              " RelationRecord(items=frozenset({'frozen vegetables', 'spaghetti', 'nan', 'mineral water', 'milk'}), support=0.004532728969470737, ordered_statistics=[OrderedStatistic(items_base=frozenset({'mineral water', 'spaghetti', 'milk'}), items_add=frozenset({'frozen vegetables', 'nan'}), confidence=0.28813559322033894, lift=3.0228043143297376), OrderedStatistic(items_base=frozenset({'mineral water', 'spaghetti', 'milk', 'nan'}), items_add=frozenset({'frozen vegetables'}), confidence=0.28813559322033894, lift=3.0228043143297376)]),\n",
              " RelationRecord(items=frozenset({'frozen vegetables', 'spaghetti', 'nan', 'shrimp', 'mineral water'}), support=0.003332888948140248, ordered_statistics=[OrderedStatistic(items_base=frozenset({'frozen vegetables', 'shrimp'}), items_add=frozenset({'mineral water', 'spaghetti', 'nan'}), confidence=0.2, lift=3.3486607142857148), OrderedStatistic(items_base=frozenset({'frozen vegetables', 'spaghetti', 'mineral water'}), items_add=frozenset({'nan', 'shrimp'}), confidence=0.2777777777777778, lift=3.89460020768432), OrderedStatistic(items_base=frozenset({'frozen vegetables', 'nan', 'shrimp'}), items_add=frozenset({'mineral water', 'spaghetti'}), confidence=0.2, lift=3.3486607142857148), OrderedStatistic(items_base=frozenset({'spaghetti', 'mineral water', 'shrimp'}), items_add=frozenset({'frozen vegetables', 'nan'}), confidence=0.39062500000000006, lift=4.098011363636364), OrderedStatistic(items_base=frozenset({'frozen vegetables', 'spaghetti', 'mineral water', 'nan'}), items_add=frozenset({'shrimp'}), confidence=0.2777777777777778, lift=3.8873341625207294), OrderedStatistic(items_base=frozenset({'spaghetti', 'mineral water', 'nan', 'shrimp'}), items_add=frozenset({'frozen vegetables'}), confidence=0.39062500000000006, lift=4.098011363636364)]),\n",
              " RelationRecord(items=frozenset({'frozen vegetables', 'spaghetti', 'nan', 'tomatoes', 'mineral water'}), support=0.0030662578322890282, ordered_statistics=[OrderedStatistic(items_base=frozenset({'frozen vegetables', 'spaghetti', 'mineral water'}), items_add=frozenset({'tomatoes', 'nan'}), confidence=0.2555555555555556, lift=3.7366904916612524), OrderedStatistic(items_base=frozenset({'tomatoes', 'frozen vegetables', 'mineral water'}), items_add=frozenset({'spaghetti', 'nan'}), confidence=0.5227272727272727, lift=3.0022796881525826), OrderedStatistic(items_base=frozenset({'tomatoes', 'spaghetti', 'mineral water'}), items_add=frozenset({'frozen vegetables', 'nan'}), confidence=0.32857142857142857, lift=3.447012987012987), OrderedStatistic(items_base=frozenset({'frozen vegetables', 'spaghetti', 'mineral water', 'nan'}), items_add=frozenset({'tomatoes'}), confidence=0.2555555555555556, lift=3.7366904916612524), OrderedStatistic(items_base=frozenset({'tomatoes', 'frozen vegetables', 'mineral water', 'nan'}), items_add=frozenset({'spaghetti'}), confidence=0.5227272727272727, lift=3.0022796881525826), OrderedStatistic(items_base=frozenset({'tomatoes', 'spaghetti', 'mineral water', 'nan'}), items_add=frozenset({'frozen vegetables'}), confidence=0.32857142857142857, lift=3.447012987012987)]),\n",
              " RelationRecord(items=frozenset({'ground beef', 'spaghetti', 'nan', 'mineral water', 'milk'}), support=0.004399413411545127, ordered_statistics=[OrderedStatistic(items_base=frozenset({'milk', 'ground beef'}), items_add=frozenset({'mineral water', 'spaghetti', 'nan'}), confidence=0.2, lift=3.3486607142857148), OrderedStatistic(items_base=frozenset({'milk', 'ground beef', 'nan'}), items_add=frozenset({'mineral water', 'spaghetti'}), confidence=0.2, lift=3.3486607142857148)]),\n",
              " RelationRecord(items=frozenset({'olive oil', 'spaghetti', 'ground beef', 'nan', 'mineral water'}), support=0.0030662578322890282, ordered_statistics=[OrderedStatistic(items_base=frozenset({'olive oil', 'ground beef'}), items_add=frozenset({'mineral water', 'spaghetti', 'nan'}), confidence=0.2169811320754717, lift=3.63298096361186), OrderedStatistic(items_base=frozenset({'olive oil', 'ground beef', 'nan'}), items_add=frozenset({'mineral water', 'spaghetti'}), confidence=0.2169811320754717, lift=3.63298096361186), OrderedStatistic(items_base=frozenset({'olive oil', 'spaghetti', 'mineral water'}), items_add=frozenset({'ground beef', 'nan'}), confidence=0.2987012987012987, lift=3.0401064335935435), OrderedStatistic(items_base=frozenset({'olive oil', 'spaghetti', 'mineral water', 'nan'}), items_add=frozenset({'ground beef'}), confidence=0.2987012987012987, lift=3.0401064335935435)]),\n",
              " RelationRecord(items=frozenset({'spaghetti', 'ground beef', 'nan', 'mineral water', 'pancakes'}), support=0.0030662578322890282, ordered_statistics=[OrderedStatistic(items_base=frozenset({'ground beef', 'pancakes'}), items_add=frozenset({'mineral water', 'spaghetti', 'nan'}), confidence=0.21100917431192662, lift=3.532990661861075), OrderedStatistic(items_base=frozenset({'ground beef', 'nan', 'pancakes'}), items_add=frozenset({'mineral water', 'spaghetti'}), confidence=0.21100917431192662, lift=3.532990661861075)]),\n",
              " RelationRecord(items=frozenset({'spaghetti', 'ground beef', 'nan', 'tomatoes', 'mineral water'}), support=0.0030662578322890282, ordered_statistics=[OrderedStatistic(items_base=frozenset({'tomatoes', 'ground beef'}), items_add=frozenset({'mineral water', 'spaghetti', 'nan'}), confidence=0.26136363636363635, lift=4.3760907061688314), OrderedStatistic(items_base=frozenset({'tomatoes', 'mineral water', 'ground beef'}), items_add=frozenset({'spaghetti', 'nan'}), confidence=0.5609756097560976, lift=3.221958689724723), OrderedStatistic(items_base=frozenset({'tomatoes', 'ground beef', 'nan'}), items_add=frozenset({'mineral water', 'spaghetti'}), confidence=0.26136363636363635, lift=4.3760907061688314), OrderedStatistic(items_base=frozenset({'tomatoes', 'spaghetti', 'mineral water'}), items_add=frozenset({'ground beef', 'nan'}), confidence=0.32857142857142857, lift=3.344117076952898), OrderedStatistic(items_base=frozenset({'tomatoes', 'mineral water', 'ground beef', 'nan'}), items_add=frozenset({'spaghetti'}), confidence=0.5609756097560976, lift=3.221958689724723), OrderedStatistic(items_base=frozenset({'tomatoes', 'spaghetti', 'mineral water', 'nan'}), items_add=frozenset({'ground beef'}), confidence=0.32857142857142857, lift=3.344117076952898)]),\n",
              " RelationRecord(items=frozenset({'olive oil', 'spaghetti', 'nan', 'mineral water', 'milk'}), support=0.003332888948140248, ordered_statistics=[OrderedStatistic(items_base=frozenset({'mineral water', 'spaghetti', 'milk'}), items_add=frozenset({'olive oil', 'nan'}), confidence=0.211864406779661, lift=3.223519097878777), OrderedStatistic(items_base=frozenset({'mineral water', 'spaghetti', 'milk', 'nan'}), items_add=frozenset({'olive oil'}), confidence=0.211864406779661, lift=3.216993755575379)]),\n",
              " RelationRecord(items=frozenset({'spaghetti', 'nan', 'tomatoes', 'mineral water', 'milk'}), support=0.003332888948140248, ordered_statistics=[OrderedStatistic(items_base=frozenset({'tomatoes', 'milk'}), items_add=frozenset({'mineral water', 'spaghetti', 'nan'}), confidence=0.2380952380952381, lift=3.9865008503401365), OrderedStatistic(items_base=frozenset({'mineral water', 'spaghetti', 'milk'}), items_add=frozenset({'tomatoes', 'nan'}), confidence=0.211864406779661, lift=3.0978458387022165), OrderedStatistic(items_base=frozenset({'tomatoes', 'milk', 'nan'}), items_add=frozenset({'mineral water', 'spaghetti'}), confidence=0.2380952380952381, lift=3.9865008503401365), OrderedStatistic(items_base=frozenset({'mineral water', 'spaghetti', 'milk', 'nan'}), items_add=frozenset({'tomatoes'}), confidence=0.211864406779661, lift=3.0978458387022165)])]"
            ]
          },
          "metadata": {
            "tags": []
          },
          "execution_count": 41
        }
      ]
    },
    {
      "cell_type": "code",
      "metadata": {
        "id": "b-UBgS0-S4Ok",
        "colab_type": "code",
        "colab": {}
      },
      "source": [
        ""
      ],
      "execution_count": null,
      "outputs": []
    }
  ]
}