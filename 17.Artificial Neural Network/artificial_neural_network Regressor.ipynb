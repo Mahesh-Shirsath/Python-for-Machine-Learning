{
  "nbformat": 4,
  "nbformat_minor": 0,
  "metadata": {
    "colab": {
      "name": "artificial_neural_network.ipynb",
      "provenance": [],
      "collapsed_sections": []
    },
    "kernelspec": {
      "name": "python3",
      "display_name": "Python 3"
    }
  },
  "cells": [
    {
      "cell_type": "markdown",
      "metadata": {
        "id": "8sNDnxE2-pwE",
        "colab_type": "text"
      },
      "source": [
        "### Importing the libraries"
      ]
    },
    {
      "cell_type": "code",
      "metadata": {
        "id": "lxChR1Rk-umf",
        "colab_type": "code",
        "colab": {}
      },
      "source": [
        "import numpy as np\n",
        "import pandas as pd\n",
        "import tensorflow as tf"
      ],
      "execution_count": 1,
      "outputs": []
    },
    {
      "cell_type": "markdown",
      "metadata": {
        "id": "-4zq8Mza_D9O",
        "colab_type": "text"
      },
      "source": [
        "### Importing the dataset"
      ]
    },
    {
      "cell_type": "code",
      "metadata": {
        "id": "B9CV13Co_HHM",
        "colab_type": "code",
        "colab": {}
      },
      "source": [
        "dataset = pd.read_excel('Folds5x2_pp.xlsx')\n",
        "X = dataset.iloc[:, :-1].values\n",
        "y = dataset.iloc[:, -1].values"
      ],
      "execution_count": 3,
      "outputs": []
    },
    {
      "cell_type": "code",
      "metadata": {
        "id": "jqLYwMxAabK-",
        "colab_type": "code",
        "colab": {
          "base_uri": "https://localhost:8080/",
          "height": 204
        },
        "outputId": "e7316ea1-3f41-4253-9bd6-9391210b5866"
      },
      "source": [
        "dataset.head()"
      ],
      "execution_count": 11,
      "outputs": [
        {
          "output_type": "execute_result",
          "data": {
            "text/html": [
              "<div>\n",
              "<style scoped>\n",
              "    .dataframe tbody tr th:only-of-type {\n",
              "        vertical-align: middle;\n",
              "    }\n",
              "\n",
              "    .dataframe tbody tr th {\n",
              "        vertical-align: top;\n",
              "    }\n",
              "\n",
              "    .dataframe thead th {\n",
              "        text-align: right;\n",
              "    }\n",
              "</style>\n",
              "<table border=\"1\" class=\"dataframe\">\n",
              "  <thead>\n",
              "    <tr style=\"text-align: right;\">\n",
              "      <th></th>\n",
              "      <th>AT</th>\n",
              "      <th>V</th>\n",
              "      <th>AP</th>\n",
              "      <th>RH</th>\n",
              "      <th>PE</th>\n",
              "    </tr>\n",
              "  </thead>\n",
              "  <tbody>\n",
              "    <tr>\n",
              "      <th>0</th>\n",
              "      <td>14.96</td>\n",
              "      <td>41.76</td>\n",
              "      <td>1024.07</td>\n",
              "      <td>73.17</td>\n",
              "      <td>463.26</td>\n",
              "    </tr>\n",
              "    <tr>\n",
              "      <th>1</th>\n",
              "      <td>25.18</td>\n",
              "      <td>62.96</td>\n",
              "      <td>1020.04</td>\n",
              "      <td>59.08</td>\n",
              "      <td>444.37</td>\n",
              "    </tr>\n",
              "    <tr>\n",
              "      <th>2</th>\n",
              "      <td>5.11</td>\n",
              "      <td>39.40</td>\n",
              "      <td>1012.16</td>\n",
              "      <td>92.14</td>\n",
              "      <td>488.56</td>\n",
              "    </tr>\n",
              "    <tr>\n",
              "      <th>3</th>\n",
              "      <td>20.86</td>\n",
              "      <td>57.32</td>\n",
              "      <td>1010.24</td>\n",
              "      <td>76.64</td>\n",
              "      <td>446.48</td>\n",
              "    </tr>\n",
              "    <tr>\n",
              "      <th>4</th>\n",
              "      <td>10.82</td>\n",
              "      <td>37.50</td>\n",
              "      <td>1009.23</td>\n",
              "      <td>96.62</td>\n",
              "      <td>473.90</td>\n",
              "    </tr>\n",
              "  </tbody>\n",
              "</table>\n",
              "</div>"
            ],
            "text/plain": [
              "      AT      V       AP     RH      PE\n",
              "0  14.96  41.76  1024.07  73.17  463.26\n",
              "1  25.18  62.96  1020.04  59.08  444.37\n",
              "2   5.11  39.40  1012.16  92.14  488.56\n",
              "3  20.86  57.32  1010.24  76.64  446.48\n",
              "4  10.82  37.50  1009.23  96.62  473.90"
            ]
          },
          "metadata": {
            "tags": []
          },
          "execution_count": 11
        }
      ]
    },
    {
      "cell_type": "markdown",
      "metadata": {
        "id": "VC6omXel_Up0",
        "colab_type": "text"
      },
      "source": [
        "### Splitting the dataset into the Training set and Test set"
      ]
    },
    {
      "cell_type": "code",
      "metadata": {
        "id": "L5edeb2r_agx",
        "colab_type": "code",
        "colab": {}
      },
      "source": [
        "from sklearn.model_selection import train_test_split\n",
        "X_train, X_test, y_train, y_test = train_test_split(X, y, test_size = 0.2, random_state = 0)"
      ],
      "execution_count": 4,
      "outputs": []
    },
    {
      "cell_type": "markdown",
      "metadata": {
        "id": "_mSLlAT9_eyI",
        "colab_type": "text"
      },
      "source": [
        "## Part 2 - Building the ANN"
      ]
    },
    {
      "cell_type": "markdown",
      "metadata": {
        "id": "CsBULd_f_wLY",
        "colab_type": "text"
      },
      "source": [
        "### Initializing the ANN"
      ]
    },
    {
      "cell_type": "code",
      "metadata": {
        "id": "J6Hd97Ls__Nz",
        "colab_type": "code",
        "colab": {}
      },
      "source": [
        "ann = tf.keras.models.Sequential()"
      ],
      "execution_count": 5,
      "outputs": []
    },
    {
      "cell_type": "markdown",
      "metadata": {
        "id": "iitAFJS_ABUn",
        "colab_type": "text"
      },
      "source": [
        "### Adding the input layer and the first hidden layer"
      ]
    },
    {
      "cell_type": "code",
      "metadata": {
        "id": "ksO_Vv40AHix",
        "colab_type": "code",
        "colab": {}
      },
      "source": [
        "ann.add(tf.keras.layers.Dense(units=6, activation='relu'))"
      ],
      "execution_count": 6,
      "outputs": []
    },
    {
      "cell_type": "markdown",
      "metadata": {
        "id": "-lb4kK_wAKbs",
        "colab_type": "text"
      },
      "source": [
        "### Adding the second hidden layer"
      ]
    },
    {
      "cell_type": "code",
      "metadata": {
        "id": "c2357OqEAQOQ",
        "colab_type": "code",
        "colab": {}
      },
      "source": [
        "ann.add(tf.keras.layers.Dense(units=6, activation='relu'))"
      ],
      "execution_count": 7,
      "outputs": []
    },
    {
      "cell_type": "markdown",
      "metadata": {
        "id": "jwMOmKb3AdBY",
        "colab_type": "text"
      },
      "source": [
        "### Adding the output layer"
      ]
    },
    {
      "cell_type": "code",
      "metadata": {
        "id": "YFATpzsUAkLL",
        "colab_type": "code",
        "colab": {}
      },
      "source": [
        "ann.add(tf.keras.layers.Dense(units=1))"
      ],
      "execution_count": 8,
      "outputs": []
    },
    {
      "cell_type": "markdown",
      "metadata": {
        "id": "fq7e4fF6A1yy",
        "colab_type": "text"
      },
      "source": [
        "## Part 3 - Training the ANN"
      ]
    },
    {
      "cell_type": "markdown",
      "metadata": {
        "id": "qDeylAs2An25",
        "colab_type": "text"
      },
      "source": [
        "### Compiling the ANN"
      ]
    },
    {
      "cell_type": "code",
      "metadata": {
        "id": "pesgbWlCAtB4",
        "colab_type": "code",
        "colab": {}
      },
      "source": [
        "ann.compile(optimizer = 'adam', loss = 'mean_squared_error')"
      ],
      "execution_count": 9,
      "outputs": []
    },
    {
      "cell_type": "markdown",
      "metadata": {
        "id": "YjVuiybYOo7r",
        "colab_type": "text"
      },
      "source": [
        "### Training the ANN model on the Training set"
      ]
    },
    {
      "cell_type": "code",
      "metadata": {
        "id": "c_vV-tiiA5zn",
        "colab_type": "code",
        "colab": {
          "base_uri": "https://localhost:8080/",
          "height": 1000
        },
        "outputId": "8c31fba9-b0bb-4d47-84f1-7f0c1bfa941d"
      },
      "source": [
        "ann.fit(X_train, y_train, batch_size = 32, epochs = 100)"
      ],
      "execution_count": 10,
      "outputs": [
        {
          "output_type": "stream",
          "text": [
            "Epoch 1/100\n",
            "240/240 [==============================] - 0s 905us/step - loss: 83933.8359\n",
            "Epoch 2/100\n",
            "240/240 [==============================] - 0s 812us/step - loss: 606.8795\n",
            "Epoch 3/100\n",
            "240/240 [==============================] - 0s 807us/step - loss: 480.7265\n",
            "Epoch 4/100\n",
            "240/240 [==============================] - 0s 844us/step - loss: 367.2324\n",
            "Epoch 5/100\n",
            "240/240 [==============================] - 0s 815us/step - loss: 269.6997\n",
            "Epoch 6/100\n",
            "240/240 [==============================] - 0s 870us/step - loss: 194.6647\n",
            "Epoch 7/100\n",
            "240/240 [==============================] - 0s 822us/step - loss: 141.6637\n",
            "Epoch 8/100\n",
            "240/240 [==============================] - 0s 825us/step - loss: 106.2143\n",
            "Epoch 9/100\n",
            "240/240 [==============================] - 0s 857us/step - loss: 80.4451\n",
            "Epoch 10/100\n",
            "240/240 [==============================] - 0s 786us/step - loss: 60.9646\n",
            "Epoch 11/100\n",
            "240/240 [==============================] - 0s 818us/step - loss: 47.7373\n",
            "Epoch 12/100\n",
            "240/240 [==============================] - 0s 821us/step - loss: 38.2969\n",
            "Epoch 13/100\n",
            "240/240 [==============================] - 0s 800us/step - loss: 32.5866\n",
            "Epoch 14/100\n",
            "240/240 [==============================] - 0s 852us/step - loss: 29.6814\n",
            "Epoch 15/100\n",
            "240/240 [==============================] - 0s 941us/step - loss: 28.8875\n",
            "Epoch 16/100\n",
            "240/240 [==============================] - 0s 919us/step - loss: 27.8576\n",
            "Epoch 17/100\n",
            "240/240 [==============================] - 0s 884us/step - loss: 27.4179\n",
            "Epoch 18/100\n",
            "240/240 [==============================] - 0s 942us/step - loss: 27.6249\n",
            "Epoch 19/100\n",
            "240/240 [==============================] - 0s 810us/step - loss: 27.3748\n",
            "Epoch 20/100\n",
            "240/240 [==============================] - 0s 911us/step - loss: 27.3976\n",
            "Epoch 21/100\n",
            "240/240 [==============================] - 0s 924us/step - loss: 27.4792\n",
            "Epoch 22/100\n",
            "240/240 [==============================] - 0s 794us/step - loss: 27.2954\n",
            "Epoch 23/100\n",
            "240/240 [==============================] - 0s 813us/step - loss: 27.7225\n",
            "Epoch 24/100\n",
            "240/240 [==============================] - 0s 824us/step - loss: 27.3542\n",
            "Epoch 25/100\n",
            "240/240 [==============================] - 0s 785us/step - loss: 27.0901\n",
            "Epoch 26/100\n",
            "240/240 [==============================] - 0s 888us/step - loss: 27.9713\n",
            "Epoch 27/100\n",
            "240/240 [==============================] - 0s 797us/step - loss: 27.0907\n",
            "Epoch 28/100\n",
            "240/240 [==============================] - 0s 839us/step - loss: 28.5061\n",
            "Epoch 29/100\n",
            "240/240 [==============================] - 0s 818us/step - loss: 28.2637\n",
            "Epoch 30/100\n",
            "240/240 [==============================] - 0s 854us/step - loss: 28.0884\n",
            "Epoch 31/100\n",
            "240/240 [==============================] - 0s 791us/step - loss: 27.0524\n",
            "Epoch 32/100\n",
            "240/240 [==============================] - 0s 811us/step - loss: 27.3396\n",
            "Epoch 33/100\n",
            "240/240 [==============================] - 0s 811us/step - loss: 28.1447\n",
            "Epoch 34/100\n",
            "240/240 [==============================] - 0s 784us/step - loss: 27.5085\n",
            "Epoch 35/100\n",
            "240/240 [==============================] - 0s 936us/step - loss: 28.7523\n",
            "Epoch 36/100\n",
            "240/240 [==============================] - 0s 938us/step - loss: 27.5629\n",
            "Epoch 37/100\n",
            "240/240 [==============================] - 0s 840us/step - loss: 28.4331\n",
            "Epoch 38/100\n",
            "240/240 [==============================] - 0s 812us/step - loss: 28.2473\n",
            "Epoch 39/100\n",
            "240/240 [==============================] - 0s 819us/step - loss: 28.3624\n",
            "Epoch 40/100\n",
            "240/240 [==============================] - 0s 849us/step - loss: 29.4754\n",
            "Epoch 41/100\n",
            "240/240 [==============================] - 0s 831us/step - loss: 27.7692\n",
            "Epoch 42/100\n",
            "240/240 [==============================] - 0s 810us/step - loss: 27.4105\n",
            "Epoch 43/100\n",
            "240/240 [==============================] - 0s 839us/step - loss: 27.3278\n",
            "Epoch 44/100\n",
            "240/240 [==============================] - 0s 841us/step - loss: 27.7166\n",
            "Epoch 45/100\n",
            "240/240 [==============================] - 0s 855us/step - loss: 28.3527\n",
            "Epoch 46/100\n",
            "240/240 [==============================] - 0s 863us/step - loss: 27.4403\n",
            "Epoch 47/100\n",
            "240/240 [==============================] - 0s 866us/step - loss: 27.5257\n",
            "Epoch 48/100\n",
            "240/240 [==============================] - 0s 954us/step - loss: 28.6740\n",
            "Epoch 49/100\n",
            "240/240 [==============================] - 0s 964us/step - loss: 28.1321\n",
            "Epoch 50/100\n",
            "240/240 [==============================] - 0s 882us/step - loss: 28.0666\n",
            "Epoch 51/100\n",
            "240/240 [==============================] - 0s 795us/step - loss: 27.9191\n",
            "Epoch 52/100\n",
            "240/240 [==============================] - 0s 822us/step - loss: 28.5068\n",
            "Epoch 53/100\n",
            "240/240 [==============================] - 0s 819us/step - loss: 28.0720\n",
            "Epoch 54/100\n",
            "240/240 [==============================] - 0s 875us/step - loss: 27.3589\n",
            "Epoch 55/100\n",
            "240/240 [==============================] - 0s 872us/step - loss: 28.6168\n",
            "Epoch 56/100\n",
            "240/240 [==============================] - 0s 881us/step - loss: 28.5024\n",
            "Epoch 57/100\n",
            "240/240 [==============================] - 0s 948us/step - loss: 28.4124\n",
            "Epoch 58/100\n",
            "240/240 [==============================] - 0s 944us/step - loss: 27.0210\n",
            "Epoch 59/100\n",
            "240/240 [==============================] - 0s 911us/step - loss: 27.3488\n",
            "Epoch 60/100\n",
            "240/240 [==============================] - 0s 790us/step - loss: 27.5305\n",
            "Epoch 61/100\n",
            "240/240 [==============================] - 0s 874us/step - loss: 27.7046\n",
            "Epoch 62/100\n",
            "240/240 [==============================] - 0s 819us/step - loss: 27.3012\n",
            "Epoch 63/100\n",
            "240/240 [==============================] - 0s 840us/step - loss: 28.8455\n",
            "Epoch 64/100\n",
            "240/240 [==============================] - 0s 815us/step - loss: 27.2951\n",
            "Epoch 65/100\n",
            "240/240 [==============================] - 0s 795us/step - loss: 27.2181\n",
            "Epoch 66/100\n",
            "240/240 [==============================] - 0s 797us/step - loss: 27.6841\n",
            "Epoch 67/100\n",
            "240/240 [==============================] - 0s 832us/step - loss: 27.3121\n",
            "Epoch 68/100\n",
            "240/240 [==============================] - 0s 788us/step - loss: 27.8077\n",
            "Epoch 69/100\n",
            "240/240 [==============================] - 0s 880us/step - loss: 27.9806\n",
            "Epoch 70/100\n",
            "240/240 [==============================] - 0s 790us/step - loss: 27.8768\n",
            "Epoch 71/100\n",
            "240/240 [==============================] - 0s 927us/step - loss: 27.7952\n",
            "Epoch 72/100\n",
            "240/240 [==============================] - 0s 893us/step - loss: 27.9311\n",
            "Epoch 73/100\n",
            "240/240 [==============================] - 0s 918us/step - loss: 27.9668\n",
            "Epoch 74/100\n",
            "240/240 [==============================] - 0s 919us/step - loss: 28.2963\n",
            "Epoch 75/100\n",
            "240/240 [==============================] - 0s 834us/step - loss: 27.3323\n",
            "Epoch 76/100\n",
            "240/240 [==============================] - 0s 853us/step - loss: 27.5425\n",
            "Epoch 77/100\n",
            "240/240 [==============================] - 0s 835us/step - loss: 27.5180\n",
            "Epoch 78/100\n",
            "240/240 [==============================] - 0s 805us/step - loss: 28.3578\n",
            "Epoch 79/100\n",
            "240/240 [==============================] - 0s 831us/step - loss: 27.8281\n",
            "Epoch 80/100\n",
            "240/240 [==============================] - 0s 796us/step - loss: 28.1944\n",
            "Epoch 81/100\n",
            "240/240 [==============================] - 0s 836us/step - loss: 28.3931\n",
            "Epoch 82/100\n",
            "240/240 [==============================] - 0s 799us/step - loss: 27.3553\n",
            "Epoch 83/100\n",
            "240/240 [==============================] - 0s 801us/step - loss: 27.5113\n",
            "Epoch 84/100\n",
            "240/240 [==============================] - 0s 847us/step - loss: 27.7903\n",
            "Epoch 85/100\n",
            "240/240 [==============================] - 0s 810us/step - loss: 28.0107\n",
            "Epoch 86/100\n",
            "240/240 [==============================] - 0s 822us/step - loss: 27.1974\n",
            "Epoch 87/100\n",
            "240/240 [==============================] - 0s 912us/step - loss: 28.2178\n",
            "Epoch 88/100\n",
            "240/240 [==============================] - 0s 808us/step - loss: 27.3028\n",
            "Epoch 89/100\n",
            "240/240 [==============================] - 0s 817us/step - loss: 29.2506\n",
            "Epoch 90/100\n",
            "240/240 [==============================] - 0s 809us/step - loss: 27.4736\n",
            "Epoch 91/100\n",
            "240/240 [==============================] - 0s 810us/step - loss: 26.7740\n",
            "Epoch 92/100\n",
            "240/240 [==============================] - 0s 799us/step - loss: 28.6559\n",
            "Epoch 93/100\n",
            "240/240 [==============================] - 0s 866us/step - loss: 27.3120\n",
            "Epoch 94/100\n",
            "240/240 [==============================] - 0s 904us/step - loss: 27.6175\n",
            "Epoch 95/100\n",
            "240/240 [==============================] - 0s 801us/step - loss: 27.8197\n",
            "Epoch 96/100\n",
            "240/240 [==============================] - 0s 829us/step - loss: 27.4382\n",
            "Epoch 97/100\n",
            "240/240 [==============================] - 0s 816us/step - loss: 27.8924\n",
            "Epoch 98/100\n",
            "240/240 [==============================] - 0s 874us/step - loss: 27.7102\n",
            "Epoch 99/100\n",
            "240/240 [==============================] - 0s 833us/step - loss: 27.5000\n",
            "Epoch 100/100\n",
            "240/240 [==============================] - 0s 937us/step - loss: 27.4055\n"
          ],
          "name": "stdout"
        },
        {
          "output_type": "execute_result",
          "data": {
            "text/plain": [
              "<tensorflow.python.keras.callbacks.History at 0x7f059ac89e48>"
            ]
          },
          "metadata": {
            "tags": []
          },
          "execution_count": 10
        }
      ]
    },
    {
      "cell_type": "markdown",
      "metadata": {
        "id": "0H0zKKNEBLD5",
        "colab_type": "text"
      },
      "source": [
        "### Predicting the results of the Test set"
      ]
    },
    {
      "cell_type": "code",
      "metadata": {
        "id": "IA0yApEmBG1X",
        "colab_type": "code",
        "colab": {
          "base_uri": "https://localhost:8080/",
          "height": 136
        },
        "outputId": "2c656ffd-3b8c-4b8d-da67-240870e1d8c8"
      },
      "source": [
        "y_pred = ann.predict(X_test)\n",
        "np.set_printoptions(precision=2)\n",
        "print(np.concatenate((y_pred.reshape(len(y_pred),1), y_test.reshape(len(y_test),1)),1))"
      ],
      "execution_count": 17,
      "outputs": [
        {
          "output_type": "stream",
          "text": [
            "[[429.29 431.23]\n",
            " [460.38 460.01]\n",
            " [463.89 461.14]\n",
            " ...\n",
            " [471.14 473.26]\n",
            " [437.92 438.  ]\n",
            " [457.17 463.28]]\n"
          ],
          "name": "stdout"
        }
      ]
    },
    {
      "cell_type": "code",
      "metadata": {
        "id": "muygpwoRbWd9",
        "colab_type": "code",
        "colab": {
          "base_uri": "https://localhost:8080/",
          "height": 34
        },
        "outputId": "e14f0018-9bef-4b14-a3a4-2fe271b9c33d"
      },
      "source": [
        "from sklearn.metrics import r2_score\n",
        "r2_score(y_test, y_pred)"
      ],
      "execution_count": 18,
      "outputs": [
        {
          "output_type": "execute_result",
          "data": {
            "text/plain": [
              "0.9031472938739822"
            ]
          },
          "metadata": {
            "tags": []
          },
          "execution_count": 18
        }
      ]
    },
    {
      "cell_type": "code",
      "metadata": {
        "id": "Tb1U9vzta1T_",
        "colab_type": "code",
        "colab": {
          "base_uri": "https://localhost:8080/",
          "height": 136
        },
        "outputId": "40910f19-39b1-4648-dcd2-6018ae1416d4"
      },
      "source": [
        "from sklearn.ensemble import RandomForestRegressor\n",
        "regressor = RandomForestRegressor(n_estimators = 10, random_state = 0)\n",
        "regressor.fit(X_train, y_train)"
      ],
      "execution_count": 14,
      "outputs": [
        {
          "output_type": "execute_result",
          "data": {
            "text/plain": [
              "RandomForestRegressor(bootstrap=True, ccp_alpha=0.0, criterion='mse',\n",
              "                      max_depth=None, max_features='auto', max_leaf_nodes=None,\n",
              "                      max_samples=None, min_impurity_decrease=0.0,\n",
              "                      min_impurity_split=None, min_samples_leaf=1,\n",
              "                      min_samples_split=2, min_weight_fraction_leaf=0.0,\n",
              "                      n_estimators=10, n_jobs=None, oob_score=False,\n",
              "                      random_state=0, verbose=0, warm_start=False)"
            ]
          },
          "metadata": {
            "tags": []
          },
          "execution_count": 14
        }
      ]
    },
    {
      "cell_type": "code",
      "metadata": {
        "id": "jsV4jgEya4wX",
        "colab_type": "code",
        "colab": {
          "base_uri": "https://localhost:8080/",
          "height": 136
        },
        "outputId": "b6b3163e-4c82-4c7c-80a6-2a1bdf1c4088"
      },
      "source": [
        "y_pred = regressor.predict(X_test)\n",
        "np.set_printoptions(precision=2)\n",
        "print(np.concatenate((y_pred.reshape(len(y_pred),1), y_test.reshape(len(y_test),1)),1))"
      ],
      "execution_count": 15,
      "outputs": [
        {
          "output_type": "stream",
          "text": [
            "[[433.78 431.23]\n",
            " [457.99 460.01]\n",
            " [463.14 461.14]\n",
            " ...\n",
            " [470.16 473.26]\n",
            " [439.51 438.  ]\n",
            " [460.32 463.28]]\n"
          ],
          "name": "stdout"
        }
      ]
    },
    {
      "cell_type": "code",
      "metadata": {
        "id": "ErT5b__vbLEt",
        "colab_type": "code",
        "colab": {
          "base_uri": "https://localhost:8080/",
          "height": 34
        },
        "outputId": "6009a928-b302-499c-a4d4-3c8cf363dea0"
      },
      "source": [
        "from sklearn.metrics import r2_score\n",
        "r2_score(y_test, y_pred)"
      ],
      "execution_count": 16,
      "outputs": [
        {
          "output_type": "execute_result",
          "data": {
            "text/plain": [
              "0.9615980699813017"
            ]
          },
          "metadata": {
            "tags": []
          },
          "execution_count": 16
        }
      ]
    },
    {
      "cell_type": "code",
      "metadata": {
        "id": "wgTBBve-bUUb",
        "colab_type": "code",
        "colab": {}
      },
      "source": [
        ""
      ],
      "execution_count": null,
      "outputs": []
    }
  ]
}