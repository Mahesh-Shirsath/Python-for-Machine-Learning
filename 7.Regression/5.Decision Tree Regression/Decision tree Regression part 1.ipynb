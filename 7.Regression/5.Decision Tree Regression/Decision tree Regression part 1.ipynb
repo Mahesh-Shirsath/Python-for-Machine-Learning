{
 "cells": [
  {
   "cell_type": "code",
   "execution_count": 2,
   "metadata": {},
   "outputs": [],
   "source": [
    "import pandas as pd\n",
    "import matplotlib.pyplot as plt"
   ]
  },
  {
   "cell_type": "code",
   "execution_count": 3,
   "metadata": {},
   "outputs": [],
   "source": [
    "dataset = pd.read_csv('../1.Linear Regression/Data/USA_Housing.csv')"
   ]
  },
  {
   "cell_type": "code",
   "execution_count": 4,
   "metadata": {},
   "outputs": [
    {
     "data": {
      "text/html": [
       "<div>\n",
       "<style scoped>\n",
       "    .dataframe tbody tr th:only-of-type {\n",
       "        vertical-align: middle;\n",
       "    }\n",
       "\n",
       "    .dataframe tbody tr th {\n",
       "        vertical-align: top;\n",
       "    }\n",
       "\n",
       "    .dataframe thead th {\n",
       "        text-align: right;\n",
       "    }\n",
       "</style>\n",
       "<table border=\"1\" class=\"dataframe\">\n",
       "  <thead>\n",
       "    <tr style=\"text-align: right;\">\n",
       "      <th></th>\n",
       "      <th>Avg. Area Income</th>\n",
       "      <th>Avg. Area House Age</th>\n",
       "      <th>Avg. Area Number of Rooms</th>\n",
       "      <th>Avg. Area Number of Bedrooms</th>\n",
       "      <th>Area Population</th>\n",
       "      <th>Price</th>\n",
       "      <th>Address</th>\n",
       "    </tr>\n",
       "  </thead>\n",
       "  <tbody>\n",
       "    <tr>\n",
       "      <th>0</th>\n",
       "      <td>79545.458574</td>\n",
       "      <td>5.682861</td>\n",
       "      <td>7.009188</td>\n",
       "      <td>4.09</td>\n",
       "      <td>23086.800503</td>\n",
       "      <td>1.059034e+06</td>\n",
       "      <td>208 Michael Ferry Apt. 674\\nLaurabury, NE 3701...</td>\n",
       "    </tr>\n",
       "    <tr>\n",
       "      <th>1</th>\n",
       "      <td>79248.642455</td>\n",
       "      <td>6.002900</td>\n",
       "      <td>6.730821</td>\n",
       "      <td>3.09</td>\n",
       "      <td>40173.072174</td>\n",
       "      <td>1.505891e+06</td>\n",
       "      <td>188 Johnson Views Suite 079\\nLake Kathleen, CA...</td>\n",
       "    </tr>\n",
       "    <tr>\n",
       "      <th>2</th>\n",
       "      <td>61287.067179</td>\n",
       "      <td>5.865890</td>\n",
       "      <td>8.512727</td>\n",
       "      <td>5.13</td>\n",
       "      <td>36882.159400</td>\n",
       "      <td>1.058988e+06</td>\n",
       "      <td>9127 Elizabeth Stravenue\\nDanieltown, WI 06482...</td>\n",
       "    </tr>\n",
       "    <tr>\n",
       "      <th>3</th>\n",
       "      <td>63345.240046</td>\n",
       "      <td>7.188236</td>\n",
       "      <td>5.586729</td>\n",
       "      <td>3.26</td>\n",
       "      <td>34310.242831</td>\n",
       "      <td>1.260617e+06</td>\n",
       "      <td>USS Barnett\\nFPO AP 44820</td>\n",
       "    </tr>\n",
       "    <tr>\n",
       "      <th>4</th>\n",
       "      <td>59982.197226</td>\n",
       "      <td>5.040555</td>\n",
       "      <td>7.839388</td>\n",
       "      <td>4.23</td>\n",
       "      <td>26354.109472</td>\n",
       "      <td>6.309435e+05</td>\n",
       "      <td>USNS Raymond\\nFPO AE 09386</td>\n",
       "    </tr>\n",
       "  </tbody>\n",
       "</table>\n",
       "</div>"
      ],
      "text/plain": [
       "   Avg. Area Income  Avg. Area House Age  Avg. Area Number of Rooms  \\\n",
       "0      79545.458574             5.682861                   7.009188   \n",
       "1      79248.642455             6.002900                   6.730821   \n",
       "2      61287.067179             5.865890                   8.512727   \n",
       "3      63345.240046             7.188236                   5.586729   \n",
       "4      59982.197226             5.040555                   7.839388   \n",
       "\n",
       "   Avg. Area Number of Bedrooms  Area Population         Price  \\\n",
       "0                          4.09     23086.800503  1.059034e+06   \n",
       "1                          3.09     40173.072174  1.505891e+06   \n",
       "2                          5.13     36882.159400  1.058988e+06   \n",
       "3                          3.26     34310.242831  1.260617e+06   \n",
       "4                          4.23     26354.109472  6.309435e+05   \n",
       "\n",
       "                                             Address  \n",
       "0  208 Michael Ferry Apt. 674\\nLaurabury, NE 3701...  \n",
       "1  188 Johnson Views Suite 079\\nLake Kathleen, CA...  \n",
       "2  9127 Elizabeth Stravenue\\nDanieltown, WI 06482...  \n",
       "3                          USS Barnett\\nFPO AP 44820  \n",
       "4                         USNS Raymond\\nFPO AE 09386  "
      ]
     },
     "execution_count": 4,
     "metadata": {},
     "output_type": "execute_result"
    }
   ],
   "source": [
    "dataset.head()"
   ]
  },
  {
   "cell_type": "code",
   "execution_count": 5,
   "metadata": {},
   "outputs": [],
   "source": [
    "X = dataset.iloc[:,:-2]\n",
    "y = dataset.iloc[:,-2]"
   ]
  },
  {
   "cell_type": "code",
   "execution_count": 6,
   "metadata": {},
   "outputs": [
    {
     "data": {
      "text/html": [
       "<div>\n",
       "<style scoped>\n",
       "    .dataframe tbody tr th:only-of-type {\n",
       "        vertical-align: middle;\n",
       "    }\n",
       "\n",
       "    .dataframe tbody tr th {\n",
       "        vertical-align: top;\n",
       "    }\n",
       "\n",
       "    .dataframe thead th {\n",
       "        text-align: right;\n",
       "    }\n",
       "</style>\n",
       "<table border=\"1\" class=\"dataframe\">\n",
       "  <thead>\n",
       "    <tr style=\"text-align: right;\">\n",
       "      <th></th>\n",
       "      <th>Avg. Area Income</th>\n",
       "      <th>Avg. Area House Age</th>\n",
       "      <th>Avg. Area Number of Rooms</th>\n",
       "      <th>Avg. Area Number of Bedrooms</th>\n",
       "      <th>Area Population</th>\n",
       "    </tr>\n",
       "  </thead>\n",
       "  <tbody>\n",
       "    <tr>\n",
       "      <th>0</th>\n",
       "      <td>79545.458574</td>\n",
       "      <td>5.682861</td>\n",
       "      <td>7.009188</td>\n",
       "      <td>4.09</td>\n",
       "      <td>23086.800503</td>\n",
       "    </tr>\n",
       "    <tr>\n",
       "      <th>1</th>\n",
       "      <td>79248.642455</td>\n",
       "      <td>6.002900</td>\n",
       "      <td>6.730821</td>\n",
       "      <td>3.09</td>\n",
       "      <td>40173.072174</td>\n",
       "    </tr>\n",
       "    <tr>\n",
       "      <th>2</th>\n",
       "      <td>61287.067179</td>\n",
       "      <td>5.865890</td>\n",
       "      <td>8.512727</td>\n",
       "      <td>5.13</td>\n",
       "      <td>36882.159400</td>\n",
       "    </tr>\n",
       "    <tr>\n",
       "      <th>3</th>\n",
       "      <td>63345.240046</td>\n",
       "      <td>7.188236</td>\n",
       "      <td>5.586729</td>\n",
       "      <td>3.26</td>\n",
       "      <td>34310.242831</td>\n",
       "    </tr>\n",
       "    <tr>\n",
       "      <th>4</th>\n",
       "      <td>59982.197226</td>\n",
       "      <td>5.040555</td>\n",
       "      <td>7.839388</td>\n",
       "      <td>4.23</td>\n",
       "      <td>26354.109472</td>\n",
       "    </tr>\n",
       "  </tbody>\n",
       "</table>\n",
       "</div>"
      ],
      "text/plain": [
       "   Avg. Area Income  Avg. Area House Age  Avg. Area Number of Rooms  \\\n",
       "0      79545.458574             5.682861                   7.009188   \n",
       "1      79248.642455             6.002900                   6.730821   \n",
       "2      61287.067179             5.865890                   8.512727   \n",
       "3      63345.240046             7.188236                   5.586729   \n",
       "4      59982.197226             5.040555                   7.839388   \n",
       "\n",
       "   Avg. Area Number of Bedrooms  Area Population  \n",
       "0                          4.09     23086.800503  \n",
       "1                          3.09     40173.072174  \n",
       "2                          5.13     36882.159400  \n",
       "3                          3.26     34310.242831  \n",
       "4                          4.23     26354.109472  "
      ]
     },
     "execution_count": 6,
     "metadata": {},
     "output_type": "execute_result"
    }
   ],
   "source": [
    "X.head()"
   ]
  },
  {
   "cell_type": "code",
   "execution_count": 7,
   "metadata": {},
   "outputs": [],
   "source": [
    "from sklearn.model_selection import train_test_split"
   ]
  },
  {
   "cell_type": "code",
   "execution_count": 8,
   "metadata": {},
   "outputs": [],
   "source": [
    "X_train, X_test, y_train, y_test = train_test_split(X, y, test_size=0.3, random_state=42)"
   ]
  },
  {
   "cell_type": "code",
   "execution_count": 9,
   "metadata": {},
   "outputs": [],
   "source": [
    "from sklearn.tree import DecisionTreeRegressor"
   ]
  },
  {
   "cell_type": "code",
   "execution_count": 10,
   "metadata": {},
   "outputs": [],
   "source": [
    "regrssor = DecisionTreeRegressor(random_state=0)"
   ]
  },
  {
   "cell_type": "code",
   "execution_count": 11,
   "metadata": {},
   "outputs": [
    {
     "data": {
      "text/plain": [
       "DecisionTreeRegressor(random_state=0)"
      ]
     },
     "execution_count": 11,
     "metadata": {},
     "output_type": "execute_result"
    }
   ],
   "source": [
    "regrssor.fit(X_train, y_train)"
   ]
  },
  {
   "cell_type": "code",
   "execution_count": 12,
   "metadata": {},
   "outputs": [],
   "source": [
    "predication = regrssor.predict(X_test)"
   ]
  },
  {
   "cell_type": "code",
   "execution_count": 13,
   "metadata": {},
   "outputs": [
    {
     "name": "stdout",
     "output_type": "stream",
     "text": [
      "1339096.0772451318   1639944.9587541027\n",
      "1251794.178836864   1269811.089152703\n",
      "1340094.9662054193   1307506.565069192\n",
      "1431507.6234279652   1513846.5947077826\n",
      "1042373.5240960823   1413729.7574052191\n",
     ]
    }
   ],
   "source": [
    "for i in range(5)):\n",
    "    print(y_test.iloc[i], ' ', predication[i])"
   ]
  },
  {
   "cell_type": "code",
   "execution_count": 14,
   "metadata": {},
   "outputs": [
    {
     "data": {
      "text/plain": [
       "<matplotlib.collections.PathCollection at 0x18f53bb5ec8>"
      ]
     },
     "execution_count": 14,
     "metadata": {},
     "output_type": "execute_result"
    },
    {
     "data": {
      "image/png": "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\n",
      "text/plain": [
       "<Figure size 432x288 with 1 Axes>"
      ]
     },
     "metadata": {
      "needs_background": "light"
     },
     "output_type": "display_data"
    }
   ],
   "source": [
    "plt.scatter(y_test, predication)"
   ]
  },
  {
   "cell_type": "code",
   "execution_count": null,
   "metadata": {},
   "outputs": [],
   "source": []
  }
 ],
 "metadata": {
  "kernelspec": {
   "display_name": "Python 3",
   "language": "python",
   "name": "python3"
  },
  "language_info": {
   "codemirror_mode": {
    "name": "ipython",
    "version": 3
   },
   "file_extension": ".py",
   "mimetype": "text/x-python",
   "name": "python",
   "nbconvert_exporter": "python",
   "pygments_lexer": "ipython3",
   "version": "3.7.7"
  }
 },
 "nbformat": 4,
 "nbformat_minor": 4
}
