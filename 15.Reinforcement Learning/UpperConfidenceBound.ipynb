{
  "nbformat": 4,
  "nbformat_minor": 0,
  "metadata": {
    "colab": {
      "name": "UpperConfidenceBound.ipynb",
      "provenance": [],
      "collapsed_sections": []
    },
    "kernelspec": {
      "name": "python3",
      "display_name": "Python 3"
    }
  },
  "cells": [
    {
      "cell_type": "code",
      "metadata": {
        "id": "641Z1EITq0P8",
        "colab_type": "code",
        "colab": {}
      },
      "source": [
        "import pandas as pd\n",
        "import seaborn as sns\n",
        "import numpy as np\n",
        "import math\n",
        "import matplotlib.pyplot as plt"
      ],
      "execution_count": 24,
      "outputs": []
    },
    {
      "cell_type": "code",
      "metadata": {
        "id": "gaolkukqq_bZ",
        "colab_type": "code",
        "colab": {}
      },
      "source": [
        "dataset = pd.read_csv('Ads_CTR_Optimisation.csv')"
      ],
      "execution_count": 2,
      "outputs": []
    },
    {
      "cell_type": "code",
      "metadata": {
        "id": "6OX4FMFMh5qT",
        "colab_type": "code",
        "colab": {
          "base_uri": "https://localhost:8080/",
          "height": 198
        },
        "outputId": "bfb6136f-603d-4f0d-e77d-b04fc0c8c53d"
      },
      "source": [
        "dataset.head()"
      ],
      "execution_count": 3,
      "outputs": [
        {
          "output_type": "execute_result",
          "data": {
            "text/html": [
              "<div>\n",
              "<style scoped>\n",
              "    .dataframe tbody tr th:only-of-type {\n",
              "        vertical-align: middle;\n",
              "    }\n",
              "\n",
              "    .dataframe tbody tr th {\n",
              "        vertical-align: top;\n",
              "    }\n",
              "\n",
              "    .dataframe thead th {\n",
              "        text-align: right;\n",
              "    }\n",
              "</style>\n",
              "<table border=\"1\" class=\"dataframe\">\n",
              "  <thead>\n",
              "    <tr style=\"text-align: right;\">\n",
              "      <th></th>\n",
              "      <th>Ad 1</th>\n",
              "      <th>Ad 2</th>\n",
              "      <th>Ad 3</th>\n",
              "      <th>Ad 4</th>\n",
              "      <th>Ad 5</th>\n",
              "      <th>Ad 6</th>\n",
              "      <th>Ad 7</th>\n",
              "      <th>Ad 8</th>\n",
              "      <th>Ad 9</th>\n",
              "      <th>Ad 10</th>\n",
              "    </tr>\n",
              "  </thead>\n",
              "  <tbody>\n",
              "    <tr>\n",
              "      <th>0</th>\n",
              "      <td>1</td>\n",
              "      <td>0</td>\n",
              "      <td>0</td>\n",
              "      <td>0</td>\n",
              "      <td>1</td>\n",
              "      <td>0</td>\n",
              "      <td>0</td>\n",
              "      <td>0</td>\n",
              "      <td>1</td>\n",
              "      <td>0</td>\n",
              "    </tr>\n",
              "    <tr>\n",
              "      <th>1</th>\n",
              "      <td>0</td>\n",
              "      <td>0</td>\n",
              "      <td>0</td>\n",
              "      <td>0</td>\n",
              "      <td>0</td>\n",
              "      <td>0</td>\n",
              "      <td>0</td>\n",
              "      <td>0</td>\n",
              "      <td>1</td>\n",
              "      <td>0</td>\n",
              "    </tr>\n",
              "    <tr>\n",
              "      <th>2</th>\n",
              "      <td>0</td>\n",
              "      <td>0</td>\n",
              "      <td>0</td>\n",
              "      <td>0</td>\n",
              "      <td>0</td>\n",
              "      <td>0</td>\n",
              "      <td>0</td>\n",
              "      <td>0</td>\n",
              "      <td>0</td>\n",
              "      <td>0</td>\n",
              "    </tr>\n",
              "    <tr>\n",
              "      <th>3</th>\n",
              "      <td>0</td>\n",
              "      <td>1</td>\n",
              "      <td>0</td>\n",
              "      <td>0</td>\n",
              "      <td>0</td>\n",
              "      <td>0</td>\n",
              "      <td>0</td>\n",
              "      <td>1</td>\n",
              "      <td>0</td>\n",
              "      <td>0</td>\n",
              "    </tr>\n",
              "    <tr>\n",
              "      <th>4</th>\n",
              "      <td>0</td>\n",
              "      <td>0</td>\n",
              "      <td>0</td>\n",
              "      <td>0</td>\n",
              "      <td>0</td>\n",
              "      <td>0</td>\n",
              "      <td>0</td>\n",
              "      <td>0</td>\n",
              "      <td>0</td>\n",
              "      <td>0</td>\n",
              "    </tr>\n",
              "  </tbody>\n",
              "</table>\n",
              "</div>"
            ],
            "text/plain": [
              "   Ad 1  Ad 2  Ad 3  Ad 4  Ad 5  Ad 6  Ad 7  Ad 8  Ad 9  Ad 10\n",
              "0     1     0     0     0     1     0     0     0     1      0\n",
              "1     0     0     0     0     0     0     0     0     1      0\n",
              "2     0     0     0     0     0     0     0     0     0      0\n",
              "3     0     1     0     0     0     0     0     1     0      0\n",
              "4     0     0     0     0     0     0     0     0     0      0"
            ]
          },
          "metadata": {
            "tags": []
          },
          "execution_count": 3
        }
      ]
    },
    {
      "cell_type": "code",
      "metadata": {
        "id": "c9W71FBeh7jn",
        "colab_type": "code",
        "colab": {
          "base_uri": "https://localhost:8080/",
          "height": 326
        },
        "outputId": "807a307c-a9f9-445e-c9db-2a9df10a7185"
      },
      "source": [
        "dataset.info()"
      ],
      "execution_count": 4,
      "outputs": [
        {
          "output_type": "stream",
          "text": [
            "<class 'pandas.core.frame.DataFrame'>\n",
            "RangeIndex: 10000 entries, 0 to 9999\n",
            "Data columns (total 10 columns):\n",
            " #   Column  Non-Null Count  Dtype\n",
            "---  ------  --------------  -----\n",
            " 0   Ad 1    10000 non-null  int64\n",
            " 1   Ad 2    10000 non-null  int64\n",
            " 2   Ad 3    10000 non-null  int64\n",
            " 3   Ad 4    10000 non-null  int64\n",
            " 4   Ad 5    10000 non-null  int64\n",
            " 5   Ad 6    10000 non-null  int64\n",
            " 6   Ad 7    10000 non-null  int64\n",
            " 7   Ad 8    10000 non-null  int64\n",
            " 8   Ad 9    10000 non-null  int64\n",
            " 9   Ad 10   10000 non-null  int64\n",
            "dtypes: int64(10)\n",
            "memory usage: 781.4 KB\n"
          ],
          "name": "stdout"
        }
      ]
    },
    {
      "cell_type": "code",
      "metadata": {
        "id": "4yb2bhKw2Lo9",
        "colab_type": "code",
        "colab": {}
      },
      "source": [
        "N = 10000 # number of persons who sees the ad\n",
        "d = 10   # number of ads\n",
        "adSelected, numbersOfSelections, sumOfRewards = [], [0] * d, [0] * d\n",
        "totalReward = 0"
      ],
      "execution_count": 31,
      "outputs": []
    },
    {
      "cell_type": "code",
      "metadata": {
        "id": "HzaPzwX12MYT",
        "colab_type": "code",
        "colab": {}
      },
      "source": [
        "def UMB(N, d, adSelected, numbersOfSelections, sumOfRewards, totalReward):\n",
        "  for n in range(N):\n",
        "    ad, maxUpperBound = 0, 0\n",
        "    for i in range(d):\n",
        "      if numbersOfSelections[i] > 0:\n",
        "        averageReward = sumOfRewards[i] / numbersOfSelections[i]\n",
        "        delta_i = math.sqrt((3/2) * (math.log(n + 1) / numbersOfSelections[i]))\n",
        "        upperBound = averageReward + delta_i\n",
        "      else:\n",
        "        upperBound = 1e400\n",
        "      if maxUpperBound < upperBound:\n",
        "          maxUpperBound = upperBound\n",
        "          ad = i\n",
        "    adSelected.append(ad)\n",
        "    numbersOfSelections[ad] += 1\n",
        "    sumOfRewards[ad] += dataset.values[n, ad]\n",
        "    totalReward += dataset.values[n, ad]"
      ],
      "execution_count": 38,
      "outputs": []
    },
    {
      "cell_type": "code",
      "metadata": {
        "id": "c6OkrNHl7N2X",
        "colab_type": "code",
        "colab": {
          "base_uri": "https://localhost:8080/",
          "height": 35
        },
        "outputId": "f38a905f-c91d-4831-ba8e-37512d35f60c"
      },
      "source": [
        "UMB(N, d, adSelected, numbersOfSelections, sumOfRewards, totalReward)"
      ],
      "execution_count": 33,
      "outputs": [
        {
          "output_type": "execute_result",
          "data": {
            "text/plain": [
              "0.31169506812765957"
            ]
          },
          "metadata": {
            "tags": []
          },
          "execution_count": 33
        }
      ]
    },
    {
      "cell_type": "code",
      "metadata": {
        "id": "HCjh_CTc7boT",
        "colab_type": "code",
        "colab": {
          "base_uri": "https://localhost:8080/",
          "height": 313
        },
        "outputId": "0ebdf9b2-bede-4b02-fbe7-218049b7420d"
      },
      "source": [
        "plt.hist(adSelected)\n",
        "plt.title('Ads Selections')\n",
        "plt.xlabel('Ads')\n",
        "plt.ylabel('NUmber of times each ad is selected')"
      ],
      "execution_count": 34,
      "outputs": [
        {
          "output_type": "execute_result",
          "data": {
            "text/plain": [
              "Text(0, 0.5, 'NUmber of times each ad is selected')"
            ]
          },
          "metadata": {
            "tags": []
          },
          "execution_count": 34
        },
        {
          "output_type": "display_data",
          "data": {
            "image/png": "[encoded data removed]",
            "text/plain": [
              "<Figure size 432x288 with 1 Axes>"
            ]
          },
          "metadata": {
            "tags": [],
            "needs_background": "light"
          }
        }
      ]
    },
    {
      "cell_type": "markdown",
      "metadata": {
        "id": "uwvgBBGiAkX6",
        "colab_type": "text"
      },
      "source": [
        "Now we have to check that at what minimun value our model was able to find correct ad by changing  N value"
      ]
    },
    {
      "cell_type": "code",
      "metadata": {
        "id": "zevZeW51_qvz",
        "colab_type": "code",
        "colab": {
          "base_uri": "https://localhost:8080/",
          "height": 313
        },
        "outputId": "145fd652-fe47-4bed-d8fb-1373da7a6f9f"
      },
      "source": [
        "N = 5000 # number of persons who sees the ad\n",
        "d = 10   # number of ads\n",
        "adSelected, numbersOfSelections, sumOfRewards = [], [0] * d, [0] * d\n",
        "totalReward = 0\n",
        "UMB(N, d, adSelected, numbersOfSelections, sumOfRewards, totalReward)\n",
        "plt.hist(adSelected)\n",
        "plt.title('Ads Selections')\n",
        "plt.xlabel('Ads')\n",
        "plt.ylabel('NUmber of times each ad is selected')"
      ],
      "execution_count": 39,
      "outputs": [
        {
          "output_type": "execute_result",
          "data": {
            "text/plain": [
              "Text(0, 0.5, 'NUmber of times each ad is selected')"
            ]
          },
          "metadata": {
            "tags": []
          },
          "execution_count": 39
        },
        {
          "output_type": "display_data",
          "data": {
            "image/png": "[encoded data removed]",
            "text/plain": [
              "<Figure size 432x288 with 1 Axes>"
            ]
          },
          "metadata": {
            "tags": [],
            "needs_background": "light"
          }
        }
      ]
    },
    {
      "cell_type": "code",
      "metadata": {
        "id": "GcTqg2lXBfzl",
        "colab_type": "code",
        "colab": {
          "base_uri": "https://localhost:8080/",
          "height": 313
        },
        "outputId": "a0734a67-ffbc-4582-9a3e-569c00a9a007"
      },
      "source": [
        "N = 1000 # number of persons who sees the ad\n",
        "d = 10   # number of ads\n",
        "adSelected, numbersOfSelections, sumOfRewards = [], [0] * d, [0] * d\n",
        "totalReward = 0\n",
        "UMB(N, d, adSelected, numbersOfSelections, sumOfRewards, totalReward)\n",
        "plt.hist(adSelected)\n",
        "plt.title('Ads Selections')\n",
        "plt.xlabel('Ads')\n",
        "plt.ylabel('NUmber of times each ad is selected')"
      ],
      "execution_count": 41,
      "outputs": [
        {
          "output_type": "execute_result",
          "data": {
            "text/plain": [
              "Text(0, 0.5, 'NUmber of times each ad is selected')"
            ]
          },
          "metadata": {
            "tags": []
          },
          "execution_count": 41
        },
        {
          "output_type": "display_data",
          "data": {
            "image/png": "[encoded data removed]",
            "text/plain": [
              "<Figure size 432x288 with 1 Axes>"
            ]
          },
          "metadata": {
            "tags": [],
            "needs_background": "light"
          }
        }
      ]
    },
    {
      "cell_type": "code",
      "metadata": {
        "id": "pEKzWF9NCCpW",
        "colab_type": "code",
        "colab": {
          "base_uri": "https://localhost:8080/",
          "height": 313
        },
        "outputId": "ec5c64a6-f68c-4dc9-83e3-e960c5591167"
      },
      "source": [
        "N = 500 # number of persons who sees the ad\n",
        "d = 10   # number of ads\n",
        "adSelected, numbersOfSelections, sumOfRewards = [], [0] * d, [0] * d\n",
        "totalReward = 0\n",
        "UMB(N, d, adSelected, numbersOfSelections, sumOfRewards, totalReward)\n",
        "plt.hist(adSelected)\n",
        "plt.title('Ads Selections')\n",
        "plt.xlabel('Ads')\n",
        "plt.ylabel('NUmber of times each ad is selected')"
      ],
      "execution_count": 42,
      "outputs": [
        {
          "output_type": "execute_result",
          "data": {
            "text/plain": [
              "Text(0, 0.5, 'NUmber of times each ad is selected')"
            ]
          },
          "metadata": {
            "tags": []
          },
          "execution_count": 42
        },
        {
          "output_type": "display_data",
          "data": {
            "image/png": "[encoded data removed]",
            "text/plain": [
              "<Figure size 432x288 with 1 Axes>"
            ]
          },
          "metadata": {
            "tags": [],
            "needs_background": "light"
          }
        }
      ]
    },
    {
      "cell_type": "code",
      "metadata": {
        "id": "h36_AwmoCI7l",
        "colab_type": "code",
        "colab": {}
      },
      "source": [
        ""
      ],
      "execution_count": null,
      "outputs": []
    }
  ]
}