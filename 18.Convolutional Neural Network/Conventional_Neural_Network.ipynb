{
 "cells": [
  {
   "cell_type": "code",
   "execution_count": 1,
   "metadata": {
    "colab": {},
    "colab_type": "code",
    "id": "74uP4H0Z3tL9"
   },
   "outputs": [
    {
     "name": "stderr",
     "output_type": "stream",
     "text": [
      "Using TensorFlow backend.\n"
     ]
    }
   ],
   "source": [
    "import tensorflow as tf\n",
    "from keras.preprocessing.image import ImageDataGenerator"
   ]
  },
  {
   "cell_type": "code",
   "execution_count": 2,
   "metadata": {
    "colab": {},
    "colab_type": "code",
    "id": "yuIx2L9Z4Mxc"
   },
   "outputs": [
    {
     "name": "stdout",
     "output_type": "stream",
     "text": [
      "Found 8000 images belonging to 2 classes.\n"
     ]
    }
   ],
   "source": [
    "train_datagen = ImageDataGenerator(\n",
    "        rescale=1./255,\n",
    "        shear_range=0.2,\n",
    "        zoom_range=0.2,\n",
    "        horizontal_flip=True)\n",
    "\n",
    "training_set = train_datagen.flow_from_directory(\n",
    "        'dataset/training_set',\n",
    "        target_size=(64, 64),\n",
    "        batch_size=32,\n",
    "        class_mode='binary')"
   ]
  },
  {
   "cell_type": "code",
   "execution_count": 3,
   "metadata": {
    "colab": {},
    "colab_type": "code",
    "id": "9c2F-OCGwXjn"
   },
   "outputs": [
    {
     "name": "stdout",
     "output_type": "stream",
     "text": [
      "Found 2000 images belonging to 2 classes.\n"
     ]
    }
   ],
   "source": [
    "test_datagen = ImageDataGenerator(rescale=1./255)\n",
    "test_set = test_datagen.flow_from_directory(\n",
    "        'dataset/test_set',\n",
    "        target_size=(64, 64),\n",
    "        batch_size=32,\n",
    "        class_mode='binary')"
   ]
  },
  {
   "cell_type": "code",
   "execution_count": 4,
   "metadata": {
    "colab": {},
    "colab_type": "code",
    "id": "DTSaw2gfwiLD"
   },
   "outputs": [],
   "source": [
    "cnn = tf.keras.models.Sequential()"
   ]
  },
  {
   "cell_type": "code",
   "execution_count": 5,
   "metadata": {
    "colab": {},
    "colab_type": "code",
    "id": "TYY4mw6Nyapz"
   },
   "outputs": [],
   "source": [
    "cnn.add(tf.keras.layers.Conv2D(filters=32, kernel_size=3, input_shape=[64,64,3]))"
   ]
  },
  {
   "cell_type": "code",
   "execution_count": 6,
   "metadata": {
    "colab": {},
    "colab_type": "code",
    "id": "-NxZlN0iygAc"
   },
   "outputs": [],
   "source": [
    "cnn.add(tf.keras.layers.MaxPool2D(pool_size=2, strides=2))"
   ]
  },
  {
   "cell_type": "code",
   "execution_count": 7,
   "metadata": {
    "colab": {},
    "colab_type": "code",
    "id": "iz2cyCK7wqA_"
   },
   "outputs": [],
   "source": [
    "cnn.add(tf.keras.layers.Conv2D(filters=32, kernel_size=3))\n",
    "cnn.add(tf.keras.layers.MaxPool2D(pool_size=2, strides=2))"
   ]
  },
  {
   "cell_type": "code",
   "execution_count": 8,
   "metadata": {
    "colab": {},
    "colab_type": "code",
    "id": "Ke7NQWVhzRYm"
   },
   "outputs": [],
   "source": [
    "cnn.add(tf.keras.layers.Flatten())"
   ]
  },
  {
   "cell_type": "code",
   "execution_count": 9,
   "metadata": {
    "colab": {},
    "colab_type": "code",
    "id": "mXSeuM_2zchf"
   },
   "outputs": [],
   "source": [
    "cnn.add(tf.keras.layers.Dense(units=120, activation='relu'))"
   ]
  },
  {
   "cell_type": "code",
   "execution_count": 10,
   "metadata": {
    "colab": {},
    "colab_type": "code",
    "id": "9ld-OefRzuxy"
   },
   "outputs": [],
   "source": [
    "cnn.add(tf.keras.layers.Dense(units=1, activation='sigmoid'))"
   ]
  },
  {
   "cell_type": "code",
   "execution_count": 11,
   "metadata": {
    "colab": {},
    "colab_type": "code",
    "id": "PjkdzrE3z1SR"
   },
   "outputs": [],
   "source": [
    "cnn.compile(optimizer='adam', loss='binary_crossentropy', metrics=['accuracy'])"
   ]
  },
  {
   "cell_type": "code",
   "execution_count": 14,
   "metadata": {
    "colab": {},
    "colab_type": "code",
    "id": "0Cyln_-y0KSj"
   },
   "outputs": [
    {
     "name": "stdout",
     "output_type": "stream",
     "text": [
      "WARNING:tensorflow:sample_weight modes were coerced from\n",
      "  ...\n",
      "    to  \n",
      "  ['...']\n",
      "WARNING:tensorflow:sample_weight modes were coerced from\n",
      "  ...\n",
      "    to  \n",
      "  ['...']\n",
      "Train for 250 steps, validate for 63 steps\n",
      "Epoch 1/25\n",
      "250/250 [==============================] - 35s 140ms/step - loss: 0.5914 - accuracy: 0.6775 - val_loss: 0.5540 - val_accuracy: 0.7150\n",
      "Epoch 2/25\n",
      "250/250 [==============================] - 32s 129ms/step - loss: 0.5587 - accuracy: 0.7111 - val_loss: 0.5615 - val_accuracy: 0.7145\n",
      "Epoch 3/25\n",
      "250/250 [==============================] - 32s 126ms/step - loss: 0.5287 - accuracy: 0.7358 - val_loss: 0.5292 - val_accuracy: 0.7430\n",
      "Epoch 4/25\n",
      "250/250 [==============================] - 31s 126ms/step - loss: 0.4994 - accuracy: 0.7558 - val_loss: 0.5245 - val_accuracy: 0.7475\n",
      "Epoch 5/25\n",
      "250/250 [==============================] - 30s 122ms/step - loss: 0.4832 - accuracy: 0.7642 - val_loss: 0.5214 - val_accuracy: 0.7470\n",
      "Epoch 6/25\n",
      "250/250 [==============================] - 31s 122ms/step - loss: 0.4642 - accuracy: 0.7755 - val_loss: 0.5115 - val_accuracy: 0.7540\n",
      "Epoch 7/25\n",
      "250/250 [==============================] - 30s 118ms/step - loss: 0.4549 - accuracy: 0.7839 - val_loss: 0.5354 - val_accuracy: 0.7445\n",
      "Epoch 8/25\n",
      "250/250 [==============================] - 30s 119ms/step - loss: 0.4341 - accuracy: 0.8006 - val_loss: 0.5571 - val_accuracy: 0.7495\n",
      "Epoch 9/25\n",
      "250/250 [==============================] - 30s 119ms/step - loss: 0.4283 - accuracy: 0.7999 - val_loss: 0.5202 - val_accuracy: 0.7585\n",
      "Epoch 10/25\n",
      "250/250 [==============================] - 30s 120ms/step - loss: 0.4054 - accuracy: 0.8159 - val_loss: 0.5731 - val_accuracy: 0.7280\n",
      "Epoch 11/25\n",
      "250/250 [==============================] - 30s 119ms/step - loss: 0.3914 - accuracy: 0.8238 - val_loss: 0.5323 - val_accuracy: 0.7570\n",
      "Epoch 12/25\n",
      "250/250 [==============================] - 30s 118ms/step - loss: 0.3657 - accuracy: 0.8375 - val_loss: 0.5196 - val_accuracy: 0.7720\n",
      "Epoch 13/25\n",
      "250/250 [==============================] - 30s 122ms/step - loss: 0.3592 - accuracy: 0.8400 - val_loss: 0.5836 - val_accuracy: 0.7705\n",
      "Epoch 14/25\n",
      "250/250 [==============================] - 30s 121ms/step - loss: 0.3243 - accuracy: 0.8572 - val_loss: 0.5534 - val_accuracy: 0.7760\n",
      "Epoch 15/25\n",
      "250/250 [==============================] - 30s 119ms/step - loss: 0.3136 - accuracy: 0.8631 - val_loss: 0.5450 - val_accuracy: 0.7780\n",
      "Epoch 16/25\n",
      "250/250 [==============================] - 30s 119ms/step - loss: 0.2930 - accuracy: 0.8740 - val_loss: 0.5585 - val_accuracy: 0.7850\n",
      "Epoch 17/25\n",
      "250/250 [==============================] - 30s 118ms/step - loss: 0.2818 - accuracy: 0.8804 - val_loss: 0.5805 - val_accuracy: 0.7815\n",
      "Epoch 18/25\n",
      "250/250 [==============================] - 30s 118ms/step - loss: 0.2892 - accuracy: 0.8777 - val_loss: 0.5572 - val_accuracy: 0.7790\n",
      "Epoch 19/25\n",
      "250/250 [==============================] - 29s 117ms/step - loss: 0.2615 - accuracy: 0.8926 - val_loss: 0.6227 - val_accuracy: 0.7720\n",
      "Epoch 20/25\n",
      "250/250 [==============================] - 30s 118ms/step - loss: 0.2498 - accuracy: 0.8964 - val_loss: 0.6172 - val_accuracy: 0.7845\n",
      "Epoch 21/25\n",
      "250/250 [==============================] - 30s 118ms/step - loss: 0.2281 - accuracy: 0.9078 - val_loss: 0.6934 - val_accuracy: 0.7795\n",
      "Epoch 22/25\n",
      "250/250 [==============================] - 29s 117ms/step - loss: 0.2142 - accuracy: 0.9162 - val_loss: 0.6833 - val_accuracy: 0.7650\n",
      "Epoch 23/25\n",
      "250/250 [==============================] - 29s 118ms/step - loss: 0.2244 - accuracy: 0.9121 - val_loss: 0.6843 - val_accuracy: 0.7870\n",
      "Epoch 24/25\n",
      "250/250 [==============================] - 30s 118ms/step - loss: 0.2108 - accuracy: 0.9181 - val_loss: 0.6659 - val_accuracy: 0.7760\n",
      "Epoch 25/25\n",
      "250/250 [==============================] - 30s 118ms/step - loss: 0.1820 - accuracy: 0.9270 - val_loss: 0.6921 - val_accuracy: 0.7815\n"
     ]
    },
    {
     "data": {
      "text/plain": [
       "<tensorflow.python.keras.callbacks.History at 0x28ebe4f42b0>"
      ]
     },
     "execution_count": 14,
     "metadata": {},
     "output_type": "execute_result"
    }
   ],
   "source": [
    "cnn.fit(x=training_set, validation_data=test_set, epochs=25)"
   ]
  },
  {
   "cell_type": "code",
   "execution_count": 17,
   "metadata": {
    "colab": {},
    "colab_type": "code",
    "id": "9-uzuznC0pl6"
   },
   "outputs": [
    {
     "name": "stdout",
     "output_type": "stream",
     "text": [
      "dog\n"
     ]
    }
   ],
   "source": [
    "import numpy as np\n",
    "from keras.preprocessing import image\n",
    "test_image = image.load_img('dataset/single_prediction/cat_or_dog_1.jpg', target_size=(64,64))\n",
    "test_image = image.img_to_array(test_image)\n",
    "test_image = np.expand_dims(test_image, axis=0)\n",
    "result = cnn.predict(test_image)\n",
    "training_set.class_indices\n",
    "\n",
    "if result[0][0] == 1:\n",
    "  prediction = 'Dog'\n",
    "else:\n",
    "  prediction = 'cat'\n",
    "\n",
    "print(prediction)"
   ]
  },
  {
   "cell_type": "code",
   "execution_count": null,
   "metadata": {},
   "outputs": [],
   "source": []
  }
 ],
 "metadata": {
  "colab": {
   "collapsed_sections": [],
   "name": "Conventional Neural Network.ipynb",
   "provenance": []
  },
  "kernelspec": {
   "display_name": "Python 3",
   "language": "python",
   "name": "python3"
  },
  "language_info": {
   "codemirror_mode": {
    "name": "ipython",
    "version": 3
   },
   "file_extension": ".py",
   "mimetype": "text/x-python",
   "name": "python",
   "nbconvert_exporter": "python",
   "pygments_lexer": "ipython3",
   "version": "3.7.0"
  }
 },
 "nbformat": 4,
 "nbformat_minor": 1
}
